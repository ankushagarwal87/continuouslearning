{
 "cells": [
  {
   "cell_type": "markdown",
   "metadata": {},
   "source": [
    "# HashiCorp\n",
    "> Introduction to HashiCorp\n",
    "\n",
    "- toc: true \n",
    "- master- badges: true\n",
    "- comments: true\n",
    "- author: Ankush Agarwal\n",
    "- categories: [hashicorp]"
   ]
  },
  {
   "attachments": {},
   "cell_type": "markdown",
   "metadata": {},
   "source": [
    "![](my_icons/image.png)"
   ]
  },
  {
   "cell_type": "markdown",
   "metadata": {},
   "source": [
    "#### Steps\n",
    "\n",
    "    Options\n",
    "        CLI Command\n",
    "        API call\n",
    "        Web UI\n",
    "\n",
    "    Step 1: Configure Transit Secrets Engine\n",
    "    Step 2: Encrypt Secrets\n",
    "    Step 3: Decrypt ciphertext\n",
    "    Step 4: Rotate the Encryption Key\n",
    "    Step 5: Update Key Configuration\n",
    "    Step 6: Generate Data Key\n",
    "        Can call API to get encypted key & decrypt the file (no need of sending entire file)\n",
    "        \n",
    "    Vault HTTP API imposes a maximum request size of 32MB to prevent a denial of service attack. \n",
    "    This can be tuned per listener block in the Vault server configuration.\n",
    "    \n",
    "\n",
    "    Question\n",
    "        Why don't have own method of encryption/decryption rather then on service\n",
    "        How hashicorp validate user (who is asking for key or encrypt/decrypt request)\n",
    "            https://www.youtube.com/watch?v=lZnrrGxrInk&feature=emb_rel_end\n",
    "        Do we really need to encrypt data when there is option of delete post processing\n",
    "        If two files comes at the same time - How ABC will work\n",
    "        Is single instance work on API/File Integration\n",
    "        Can we not have FTP connector in the end to send file\n",
    "            Output Port need to be open \n",
    "        Email Connector\n",
    "\n",
    "        \n",
    "    Reference\n",
    "        https://learn.hashicorp.com/vault/encryption-as-a-service/eaas-transit\n",
    "        https://www.vaultproject.io/api-docs/secret/transit\n",
    "        https://www.hashicorp.com/blog/how-vault-encrypts-application-data-during-transit-and-at-rest/\n",
    "        https://www.hashicorp.com/resources/encryption-as-a-service-with-vault-s-transit-secret-engine/\n",
    "        \n",
    "        \n",
    "    Options\n",
    "        We can have lambda function trigger when file comes to S3 \n",
    "        Lambda function will dcrypt & again save to S3 \n",
    "        Trigger ABC on S3\n",
    "        \n",
    "        \n",
    "    AWS Integration\n",
    "        https://www.vaultproject.io/docs/auth/aws\n",
    "        https://www.vaultproject.io/api/auth/aws\n",
    "        IAM auth method\n",
    "            The AWS STS API includes a method, sts:GetCallerIdentity, which allows you to validate the identity \n",
    "            of a client. The client signs a GetCallerIdentity query using the AWS Signature v4 algorithm \n",
    "            and sends it to the Vault server. The credentials used to sign the GetCallerIdentity request \n",
    "            can come from the EC2 instance metadata service for an EC2 instance, or from the AWS environment\n",
    "            variables in an AWS Lambda function execution, which obviates the need for an operator to manually\n",
    "            provision some sort of identity material first. However, the credentials can, in principle, come \n",
    "            from anywhere, not just from the locations AWS has provided for you.\n",
    "            \n",
    "            AWS Security Token Service (AWS STS) is a web service that enables you to request temporary, \n",
    "            limited-privilege credentials for AWS Identity and Access Management (IAM) users\n",
    "            \n",
    "            GetCallerIdentity\n",
    "                Returns details about the IAM user or role whose credentials are used to call the operation. \n",
    "                https://docs.aws.amazon.com/STS/latest/APIReference/API_GetCallerIdentity.html\n",
    "                \n",
    "        EC2 auth method\n",
    "            Amazon EC2 instances have access to metadata which describes the instance. \n",
    "            The Vault EC2 auth method leverages the components of this metadata to authenticate and \n",
    "                distribute an initial Vault token to an EC2 instance.\n",
    "               \n",
    "    ABC\n",
    "        An enterprise-level FTP Client is included in the Core edition, which provides an intuitive\n",
    "        browser-based administrator, extensive security features, user management, file triggers, and \n",
    "        detailed audit trails.\n",
    "        \n",
    "    Lambda\n",
    "        https://docs.aws.amazon.com/lambda/latest/dg/with-s3.html"
   ]
  },
  {
   "cell_type": "code",
   "execution_count": null,
   "metadata": {
    "collapsed": true
   },
   "outputs": [],
   "source": []
  }
 ],
 "metadata": {
  "kernelspec": {
   "display_name": "Python 3",
   "language": "python",
   "name": "python3"
  },
  "language_info": {
   "codemirror_mode": {
    "name": "ipython",
    "version": 3
   },
   "file_extension": ".py",
   "mimetype": "text/x-python",
   "name": "python",
   "nbconvert_exporter": "python",
   "pygments_lexer": "ipython3",
   "version": "3.5.2"
  }
 },
 "nbformat": 4,
 "nbformat_minor": 2
}
