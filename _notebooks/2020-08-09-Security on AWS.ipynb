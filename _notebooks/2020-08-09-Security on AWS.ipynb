{
 "cells": [
  {
   "cell_type": "markdown",
   "metadata": {},
   "source": [
    "# Security on AWS\n",
    "> Introduction on Security\n",
    "\n",
    "- toc: true \n",
    "- comments: true\n",
    "- author: Ankush Agarwal\n",
    "- categories: [aws, security]"
   ]
  },
  {
   "cell_type": "markdown",
   "metadata": {},
   "source": [
    "### Network Monitoring and Protection\n",
    "    Distributed Denial of Service (DDoS) Attacks \n",
    "    Man in the Middle (MITM) Attacks\n",
    "    IP Spoofing \n",
    "    Port Scanning\n",
    "    Packet Sniffing by Other Tenants"
   ]
  },
  {
   "cell_type": "markdown",
   "metadata": {},
   "source": [
    "### AWS Account Security Features\n",
    "    AWS Credentials\n",
    "        Passwords\n",
    "        Access Keys\n",
    "        Key Pairs\n",
    "        X.509 Certificates\n",
    "    AWS CloudTrail"
   ]
  },
  {
   "cell_type": "markdown",
   "metadata": {},
   "source": [
    "### Service-Specific Security\n",
    "\n",
    "    Compute\n",
    "        Amazon Elastic Compute Cloud\n",
    "            Amazon EC2 supports RSA 2048 SSH-2 Key pairs\n",
    "        Amazon Elastic Block Store (Amazon EBS) \n",
    "            Encrypt Amazon EBS volumes and their snapshots with AES-256\n",
    "            \n",
    "    Networking\n",
    "        Elastic Load Balancing\n",
    "            configures your load balancer with a pre-defined cipher set that is used for TLS negotiation\n",
    "        Amazon Virtual Private Cloud\n",
    "            Security features within Amazon VPC include security groups, network ACLs, routing tables, \n",
    "            and external gateway\n",
    "        Amazon CloudFront\n",
    "            To control access to the original copies of your objects in Amazon S3, Amazon CloudFront allows \n",
    "            you to create one or more Origin Access Identities and associate these with your distributions.\n",
    "            To control who can download objects from Amazon CloudFront edge locations, the service uses \n",
    "            a signed-URL verification system.\n",
    "            \n",
    "    Storage\n",
    "        Amazon Simple Storage Service\n",
    "        Amazon Glacier\n",
    "            encrypts the data using AES-256\n",
    "        AWS Storage Gateway\n",
    "            Transfer to AWS over SSL and stored encrypted in Amazon S3 using AES-256\n",
    "        \n",
    "    Database\n",
    "        Amazon DynamoDB\n",
    "            You can control access at the database level \n",
    "        Amazon Relational Database Service\n",
    "            You can control Amazon RDS DB Instance access via DB security groups\n",
    "        Amazon Redshift\n",
    "             AES-256 block encryption\n",
    "        Amazon ElastiCache\n",
    "            Cache Security Group\n",
    "            \n",
    "    Application Services\n",
    "        Amazon Simple Queue Service\n",
    "            AWS account or a user created with AWS IAM\n",
    "        Amazon Simple Notification Service\n",
    "            Amazon SNS allows topic owners to set policies for a topic that restrict who can publish or \n",
    "            subscribe to a topic\n",
    "    \n",
    "    Analytics\n",
    "        Amazon Elastic MapReduce\n",
    "        Amazon Kinesis\n",
    "            users under your AWS account using AWS IAM\n",
    "        \n",
    "    Deployment and Management\n",
    "        AWS Identity and Access Management\n",
    "            \n",
    "    Mobile Services\n",
    "        Amazon Cognito\n",
    "            Your application authenticates with one of the well-known identity providers such as Google, \n",
    "            Facebook, and Amazon using the provider’s SDK\n",
    "            After the end user is authenticated with the provider, an OAuth or OpenID Connect token returned \n",
    "            from the provider is passed by your application to Amazon Cognito, which returns a new Amazon \n",
    "            Cognito ID for the user and a set of temporary, limited-privilege AWS credentials.\n",
    "            \n",
    "    Applications\n",
    "        Amazon Workspaces "
   ]
  }
 ],
 "metadata": {
  "kernelspec": {
   "display_name": "Python 3",
   "language": "python",
   "name": "python3"
  },
  "language_info": {
   "codemirror_mode": {
    "name": "ipython",
    "version": 3
   },
   "file_extension": ".py",
   "mimetype": "text/x-python",
   "name": "python",
   "nbconvert_exporter": "python",
   "pygments_lexer": "ipython3",
   "version": "3.5.2"
  }
 },
 "nbformat": 4,
 "nbformat_minor": 2
}
