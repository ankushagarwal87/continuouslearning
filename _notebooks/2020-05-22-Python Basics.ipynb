{
 "cells": [
  {
   "cell_type": "markdown",
   "metadata": {},
   "source": [
    "# Python Basics Pointers\n",
    "> Cover basic terminology\n",
    "\n",
    "- toc: true \n",
    "- comments: true\n",
    "- author: Ankush Agarwal\n",
    "- categories: [Python, basics]"
   ]
  },
  {
   "cell_type": "markdown",
   "metadata": {},
   "source": [
    "#### Week 1\n",
    "    Values & Data Types\n",
    "    Operators & Operands\n",
    "    Order of Operations\n",
    "    Function calls\n",
    "    Data Types\n",
    "        type()\n",
    "    Data Types Conversion\n",
    "        int()\n",
    "        float()\n",
    "        str()\n",
    "    Variables\n",
    "    Statements & Expressions\n",
    "    Input\n",
    "        input()    "
   ]
  },
  {
   "cell_type": "markdown",
   "metadata": {},
   "source": [
    "#### Week 2\n",
    "\n",
    "    Strings\n",
    "    List\n",
    "    Tuples\n",
    "    Index\n",
    "        s[0]\n",
    "    Length\n",
    "        len(..)\n",
    "    Slice\n",
    "        [:]\n",
    "    Concatenation & Repetion\n",
    "        [1,2] + [3,4]\n",
    "        [1,2] * 3\n",
    "    Count & Index\n",
    "        str.count('a')\n",
    "        str.index('a')\n",
    "    Split & Join\n",
    "        str.split()\n",
    "        \" \".join(mylist)\n",
    "    For loop\n",
    "        for name in names:\n",
    "    Range\n",
    "        range(5) - [0,1,2,3,4]\n",
    "        list(range(5))\n",
    "    "
   ]
  },
  {
   "cell_type": "markdown",
   "metadata": {},
   "source": [
    "#### Week 3\n",
    "    \n",
    "    Boolean\n",
    "    Logical Operator\n",
    "        and\n",
    "        or\n",
    "        not\n",
    "    in and not in operator\n",
    "        substring in string/list \n",
    "        substring not in string/list\n",
    "    Conditional statement\n",
    "        if True:\n",
    "            xxx\n",
    "        elif False:\n",
    "            yyy\n",
    "        else:\n",
    "            zzz\n",
    "    "
   ]
  },
  {
   "cell_type": "markdown",
   "metadata": {},
   "source": [
    "#### Week 4\n",
    "    \n",
    "    Aliasing\n",
    "        Two varaible refer same object\n",
    "        a = [1,2]\n",
    "        b = a\n",
    "        b = [3] - a also refer to [3]\n",
    "    Cloning List\n",
    "        a = [1,2]\n",
    "        b = a[:] - create new object\n",
    "    Delete List Element\n",
    "        del a[1]\n",
    "    Method on list\n",
    "        append()\n",
    "        insert(pos,value)\n",
    "        count('x')\n",
    "        index('text')\n",
    "        reverse()\n",
    "        sort()\n",
    "        remove(value)\n",
    "        pop()\n",
    "    Method on Strings\n",
    "        Non mutable - define new string\n",
    "            upper()\n",
    "            lower()\n",
    "            count()\n",
    "            strip()\n",
    "            replace()\n",
    "            split()\n",
    "        Reverse\n",
    "            str[::-1]\n",
    "        \n",
    "    "
   ]
  },
  {
   "cell_type": "code",
   "execution_count": null,
   "metadata": {
    "collapsed": true
   },
   "outputs": [],
   "source": []
  }
 ],
 "metadata": {
  "kernelspec": {
   "display_name": "Python 3",
   "language": "python",
   "name": "python3"
  },
  "language_info": {
   "codemirror_mode": {
    "name": "ipython",
    "version": 3
   },
   "file_extension": ".py",
   "mimetype": "text/x-python",
   "name": "python",
   "nbconvert_exporter": "python",
   "pygments_lexer": "ipython3",
   "version": "3.5.2"
  }
 },
 "nbformat": 4,
 "nbformat_minor": 2
}
