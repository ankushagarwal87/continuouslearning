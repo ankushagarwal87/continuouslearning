{
 "cells": [
  {
   "cell_type": "markdown",
   "metadata": {},
   "source": [
    "# Databases and AWS\n",
    "> Introduction to AWS Databases\n",
    "\n",
    "- toc: true \n",
    "- comments: true\n",
    "- author: Ankush Agarwal\n",
    "- categories: [aws, databases]"
   ]
  },
  {
   "cell_type": "markdown",
   "metadata": {},
   "source": [
    "### Introduction\n",
    "    Amazon RDS provides support for six popular relational database engines: \n",
    "        MySQL, Oracle, PostgreSQL, Microsoft SQL Server, MariaDB, and Amazon Aurora\n",
    "    Amazon Redshift is a high-performance data warehouse designed specifically for OLAP use cases.\n",
    "    Traditional relational databases are difficult to scale beyond a single server without significant \n",
    "        engineering and cost, but a NoSQL architecture allows for horizontal scalability on commodity hardware.\n",
    "    Amazon RDS makes it easy to replicate your data to increase availability, improve durability, or scale \n",
    "        up or beyond a single database instance for read-heavy database workloads."
   ]
  },
  {
   "cell_type": "markdown",
   "metadata": {},
   "source": [
    "### RDS\n",
    "    Amazon RDS MySQL,PostgreSQL,MariaDB,Oracle,Microsoft SQL Server supports Multi-AZ deployments for \n",
    "        high availability and read replicas for horizontal scaling\n",
    "    Amazon Aurora can deliver up to five times the performance of MySQL without requiring changes to most \n",
    "        of your existing web applications. \n",
    "    An Amazon Aurora DB cluster consists of two different types of instances:\n",
    "        Primary Instance \n",
    "            This is the main instance, which supports both read and write workloads. \n",
    "            When you modify your data, you are modifying the primary instance. \n",
    "            Each Amazon Aurora DB cluster has one primary instance.\n",
    "        Amazon Aurora Replica \n",
    "            This is a secondary instance that supports only read operations. \n",
    "            Each DB cluster can have up to 15 Amazon Aurora Replicas in addition to the primary instance.\n",
    "            By using multiple Amazon Aurora Replicas, you can distribute the read workload among various \n",
    "                instances, increasing performance. \n",
    "            You can also locate your Amazon Aurora Replicas in multiple Availability Zones to increase \n",
    "                your database availability."
   ]
  },
  {
   "cell_type": "markdown",
   "metadata": {},
   "source": [
    "#### Storage Options\n",
    "    Amazon RDS is built using Amazon Elastic Block Store (Amazon EBS) and allows you to select the right \n",
    "        storage option based on your performance and cost requirements. \n",
    "    Depending on the database engine and workload, you can scale up to 4 to 6TB in provisioned storage \n",
    "        and up to 30,000 IOPS. \n",
    "    Amazon RDS supports three storage types: Magnetic, General Purpose (Solid State Drive [SSD]), \n",
    "        and Provisioned IOPS (SSD)\n",
    "    \n",
    "    Magnetic Magnetic storage, also called standard storage, offers cost-effective storage that is ideal \n",
    "        for applications with light I/O requirements.\n",
    "    General Purpose (SSD) General purpose (SSD)-backed storage, also called gp2, can provide faster access \n",
    "        than magnetic storage. This storage type can provide burst performance to meet spikes and is excellent \n",
    "        for small- to medium-sized databases.\n",
    "    Provisioned IOPS (SSD) Provisioned IOPS (SSD) storage is designed to meet the needs of I/O-intensive \n",
    "        workloads, particularly database workloads, that are sensitive to storage performance and consistency \n",
    "        in random access I/O throughput."
   ]
  },
  {
   "cell_type": "markdown",
   "metadata": {},
   "source": [
    "#### Backup and Recovery\n",
    "    RPO is defined as the maximum period of data loss that is acceptable in the event of a failure or incident\n",
    "    RTO is defined as the maximum amount of downtime that is permitted to recover from backup and to \n",
    "        resume processing\n",
    "        \n",
    "    Automated Backups\n",
    "        An automated backup is an Amazon RDS feature that continuously tracks changes and backs up your database\n",
    "        One day of backups will be retained by default, but you can modify the retention period up to a \n",
    "            maximum of 35 days\n",
    "    Manual DB Snapshots\n",
    "        In addition to automated backups, you can perform manual DB snapshots at any time. \n",
    "        Unlike automated snapshots that are deleted after the retention period, manual DB snapshots are \n",
    "            kept until you explicitly delete them with the Amazon RDS console or the DeleteDBSnapshot action.\n",
    "        You cannot restore from a DB snapshot to an existing DB Instance; a new DB Instance is created when \n",
    "            you restore. \n",
    "        When you restore a DB Instance, only the default DB parameter and security groups are associated \n",
    "            with the restored instance. "
   ]
  },
  {
   "cell_type": "markdown",
   "metadata": {},
   "source": [
    "#### High Availability with Multi-AZ\n",
    "    Multi-AZ allows you to place a secondary copy of your database in another Availability Zone for \n",
    "        disaster recovery purposes\n",
    "    Amazon RDS automatically replicates the data from the master database or primary instance to the \n",
    "        slave database or secondary instance using synchronous replication.\n",
    "    To improve database performance using multiple DB Instances, use read replicas or other DB caching \n",
    "        technologies such as Amazon ElastiCache."
   ]
  },
  {
   "cell_type": "markdown",
   "metadata": {},
   "source": [
    "#### Scaling Up and Out\n",
    "    Vertical Scalability\n",
    "        Storage expansion is supported for all of the database engines except for SQL Server.\n",
    "    Horizontal Scalability with Partitioning\n",
    "        A relational database can be scaled vertically only so much before you reach the maximum instance size.\n",
    "        Partitioning a large relational database into multiple instances or shards is a common technique \n",
    "            for handling more requests beyond the capabilities of a single instance.\n",
    "        The application needs to decide how to route database requests to the correct shard and becomes \n",
    "            limited in the types of queries that can be performed across server boundaries.\n",
    "        NoSQL databases like Amazon DynamoDB or Cassandra are designed to scale horizontally.\n",
    "    Horizontal Scalability with Read Replicas\n",
    "        Another important scaling technique is to use read replicas to offload read transactions from the \n",
    "            primary database and increase the overall number of transactions\n",
    "        Read replicas are currently supported in Amazon RDS for MySQL, PostgreSQL, MariaDB and Amazon Aurora"
   ]
  },
  {
   "cell_type": "markdown",
   "metadata": {},
   "source": [
    "#### Security\n",
    "    Protect access to your infrastructure resources using AWS Identity and Access Management (IAM) policies \n",
    "        that limit which actions AWS administrators can perform\n",
    "    Another security best practice is to deploy your Amazon RDS DB Instances into a private subnet within \n",
    "        an Amazon Virtual Private Cloud (Amazon VPC) that limits network access to the DB Instance. \n",
    "    Restrict network access using network Access Control Lists (ACLs) and security groups to limit inbound \n",
    "        traffic to a short list of source IP addresses.\n",
    "    At the database level, you will also need to create users and grant them permissions to read and write \n",
    "        to your databases. \n",
    "    Access to the database is controlled using the database engine-specific access control and user \n",
    "        management mechanisms\n",
    "    Finally, protect the confidentiality of your data in transit and at rest with multiple encryption \n",
    "        capabilities provided with Amazon RDS.\n",
    "    You can securely connect a client to a running DB Instance using Secure Sockets Layer (SSL) to protect \n",
    "        data in transit. \n",
    "    Encryption at rest is possible for all engines using the Amazon Key Management Service (KMS) or \n",
    "        Transparent Data Encryption (TDE). \n",
    "    All logs, backups, and snapshots are encrypted for an encrypted Amazon RDS instance."
   ]
  },
  {
   "cell_type": "markdown",
   "metadata": {},
   "source": [
    "### Amazon Redshift\n",
    "    Amazon Redshift is a fast, powerful, fully managed, petabyte-scale data warehouse service in the cloud. \n",
    "    Amazon Redshift is a relational database designed for OLAP scenarios and optimized for high-performance\n",
    "        analysis and reporting of very large datasets. \n",
    "    Amazon Redshift is based on industry-standard PostgreSQL, so most existing SQL client applications \n",
    "        will work with only minimal changes.\n",
    "    The key component of an Amazon Redshift data warehouse is a cluster. \n",
    "    A cluster is composed of a leader node and one or more compute nodes. \n",
    "    The client application interacts directly only with the leader node, and the compute nodes are transparent \n",
    "        to external applications.\n",
    "    The six node types are grouped into two categories: Dense Compute and Dense Storage. \n",
    "    The Dense Compute node types support clusters up to 326TB using fast SSDs, while the Dense Storage \n",
    "        nodes support clusters up to 2PB using large magnetic disks\n",
    "    When you submit a query, Amazon Redshift distributes and executes the query in parallel across all of \n",
    "        a cluster’s compute nodes. \n",
    "    Amazon Redshift also spreads your table data across all compute nodes in a cluster based on a \n",
    "        distribution strategy that you specify\n",
    "        \n",
    "    Table Design\n",
    "        Data Types\n",
    "        Compression Encoding\n",
    "        Distribution Strategy\n",
    "            EVEN distribution  \n",
    "                This is the default option and results in the data being distributed across the slices \n",
    "                    in a uniform fashion regardless of the data.\n",
    "            KEY distribution  \n",
    "                With KEY distribution, the rows are distributed according to the values in one column. \n",
    "                The leader node will store matching values close together and increase query performance \n",
    "                    for joins.\n",
    "            ALL distribution  \n",
    "                With ALL, a full copy of the entire table is distributed to every node. \n",
    "                This is useful for lookup tables and other large tables that are not updated frequently.\n",
    "        Sort Keys\n",
    "\n",
    "    Loading Data\n",
    "         COPY\n",
    "    Querying Data\n",
    "    Snapshots\n",
    "    Security"
   ]
  },
  {
   "cell_type": "markdown",
   "metadata": {},
   "source": [
    "### Amazon DynamoDB\n",
    "    To help maintain consistent, fast performance levels, all table data is stored on high-performance \n",
    "        SSD disk drives. \n",
    "    Performance metrics, including transactions rates, can be monitored using Amazon CloudWatch.\n",
    "    In addition to providing high-performance levels, Amazon DynamoDB also provides automatic high-availability \n",
    "        and durability protections by replicating data across multiple Availability Zones within an AWS Region.\n",
    "    DynamoDB provides a web service API that accepts requests in JSON format."
   ]
  },
  {
   "cell_type": "markdown",
   "metadata": {},
   "source": [
    "#### Data Types\n",
    "    Scalar Data Types \n",
    "        A scalar type represents exactly one value. \n",
    "        Amazon DynamoDB supports the following five scalar types:\n",
    "            String Text and variable length characters up to 400KB. Supports Unicode with UTF8 encoding\n",
    "            Number Positive or negative number with up to 38 digits of precision\n",
    "            Binary Binary data, images, compressed objects up to 400KB in size\n",
    "            Boolean Binary flag representing a true or false value\n",
    "            Null Represents a blank, empty, or unknown state. String, Number, Binary, Boolean cannot be empty.\n",
    "\n",
    "    Set Data Types \n",
    "        Sets are useful to represent a unique list of one or more scalar values. \n",
    "        Each value in a set needs to be unique and must be the same data type. \n",
    "        Sets do not guarantee order. \n",
    "        Amazon DynamoDB supports three set types: String Set, Number Set, and Binary Set.\n",
    "            String Set Unique list of String attributes\n",
    "            Number Set Unique list of Number attributes\n",
    "            Binary Set Unique list of Binary attributes\n",
    "\n",
    "    Document Data Types \n",
    "        Document type is useful to represent multiple nested attributes, similar to the structure of a JSON file\n",
    "        Amazon DynamoDB supports two document types: List and Map. \n",
    "        Multiple Lists and Maps can be combined and nested to create complex structures.\n",
    "            List Each List can be used to store an ordered list of attributes of different data types.\n",
    "            Map Each Map can be used to store an unordered list of key/value pairs. "
   ]
  },
  {
   "cell_type": "markdown",
   "metadata": {},
   "source": [
    "#### Primary Key\n",
    "    When you create a table, you must specify the primary key of the table in addition to the table name. \n",
    "    Amazon DynamoDB supports two types of primary keys, and this configuration cannot be changed after a \n",
    "        table has been created:\n",
    "\n",
    "        Partition Key \n",
    "            The primary key is made of one attribute, a partition (or hash) key. \n",
    "            Amazon DynamoDB builds an unordered hash index on this primary key attribute.\n",
    "        Partition and Sort Key \n",
    "            The primary key is made of two attributes. \n",
    "            The first attribute is the partition key and the second one is the sort (or range) key. \n",
    "            Each item in the table is uniquely identified by the combination of its partition and sort key value\n",
    "            It is possible for two items to have the same partition key value, but those two items must \n",
    "                have different sort key values."
   ]
  },
  {
   "cell_type": "markdown",
   "metadata": {},
   "source": [
    "#### Provisioned Capacity\n",
    "    When you create an Amazon DynamoDB table, you are required to provision a certain amount of read and \n",
    "        write capacity to handle your expected workloads. \n",
    "    Based on your configuration settings, DynamoDB will then provision the right amount of infrastructure\n",
    "        capacity to meet your requirements with sustained, low-latency response times"
   ]
  },
  {
   "cell_type": "markdown",
   "metadata": {},
   "source": [
    "#### Secondary Indexes\n",
    "    When you create a table with a partition and sort key (formerly known as a hash and range key), you can\n",
    "        optionally define one or more secondary indexes on that table. \n",
    "    A secondary index lets you query the data in the table using an alternate key, in addition to queries\n",
    "        against the primary key. \n",
    "            \n",
    "    Amazon DynamoDB supports two different kinds of indexes:\n",
    "        Global Secondary Index \n",
    "            The global secondary index is an index with a partition and sort key that can be different \n",
    "                from those on the table. \n",
    "            You can create or delete a global secondary index on a table at any time.\n",
    "        Local Secondary Index \n",
    "            The local secondary index is an index that has the same partition key attribute as the primary key \n",
    "                of the table, but a different sort key. \n",
    "            You can only create a local secondary index when you create a table."
   ]
  },
  {
   "cell_type": "markdown",
   "metadata": {},
   "source": [
    "#### Writing and Reading Data\n",
    "    Writing Items\n",
    "        Amazon DynamoDB provides three primary API actions to create, update, and delete items: \n",
    "            PutItem, UpdateItem, and DeleteItem\n",
    "    Reading Items\n",
    "        After an item has been created, it can be retrieved through a direct lookup by calling the \n",
    "            GetItem action or through a search using the Query or Scan action"
   ]
  }
 ],
 "metadata": {
  "kernelspec": {
   "display_name": "Python 3",
   "language": "python",
   "name": "python3"
  },
  "language_info": {
   "codemirror_mode": {
    "name": "ipython",
    "version": 3
   },
   "file_extension": ".py",
   "mimetype": "text/x-python",
   "name": "python",
   "nbconvert_exporter": "python",
   "pygments_lexer": "ipython3",
   "version": "3.5.2"
  }
 },
 "nbformat": 4,
 "nbformat_minor": 2
}
