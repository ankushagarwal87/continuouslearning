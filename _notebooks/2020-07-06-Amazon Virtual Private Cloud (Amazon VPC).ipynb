{
 "cells": [
  {
   "cell_type": "markdown",
   "metadata": {},
   "source": [
    "# Amazon VPC\n",
    "> Introduction to AWS VPC\n",
    "\n",
    "- toc: true \n",
    "- comments: true\n",
    "- author: Ankush Agarwal\n",
    "- categories: [aws,vpc]"
   ]
  },
  {
   "cell_type": "markdown",
   "metadata": {},
   "source": [
    "### Amazon Virtual Private Cloud (Amazon VPC)\n",
    "\n",
    "    Amazon VPC is the networking layer for Amazon Elastic Compute Cloud (Amazon EC2), and it allows \n",
    "    you to build your own virtual network within AWS. \n",
    "    You control various aspects of your Amazon VPC, including selecting your own IP address range; \n",
    "    creating your own subnets; and configuring your own route tables, network gateways, and security \n",
    "    settings. Within a region, you can create multiple Amazon VPCs, and each Amazon VPC is logically \n",
    "    isolated even if it shares its IP address space.\n",
    "    \n",
    "    When you create an Amazon VPC, you must specify the IPv4 address range by choosing a Classless \n",
    "    Inter-Domain Routing (CIDR) block, such as 10.0.0.0/16. \n",
    "    The address range of the Amazon VPC cannot be changed after the Amazon VPC is created. \n",
    "    An Amazon VPC address range may be as large as /16 (65,536 available addresses) or as small as /28 \n",
    "    (16 available addresses) and should not overlap any other network with which they are to be connected.\n",
    "    \n",
    "    An Amazon VPC consists of the following components:\n",
    "        Subnets\n",
    "        Route tables\n",
    "        Dynamic Host Configuration Protocol (DHCP) option sets\n",
    "        Security groups\n",
    "        Network Access Control Lists (ACLs)\n",
    "    An Amazon VPC has the following optional components:\n",
    "        Internet Gateways (IGWs)\n",
    "        Elastic IP (EIP) addresses\n",
    "        Elastic Network Interfaces (ENIs)\n",
    "        Endpoints\n",
    "        Peering\n",
    "        Network Address Translation (NATs) instances and NAT gateways\n",
    "        Virtual Private Gateway (VPG), Customer Gateways (CGWs), and Virtual Private Networks (VPNs)"
   ]
  },
  {
   "cell_type": "markdown",
   "metadata": {},
   "source": [
    "#### Subnets\n",
    "    A subnet is a segment of an Amazon VPC’s IP address range where you can launch Amazon EC2 instances, \n",
    "        Amazon Relational Database Service (Amazon RDS) databases, and other AWS resources.        \n",
    "    AWS reserves the first four IP addresses and the last IP address of every subnet for internal \n",
    "        networking purposes\n",
    "    After creating an Amazon VPC, you can add one or more subnets in each Availability Zone. \n",
    "    Subnets reside within one Availability Zone and cannot span zones. \n",
    "    You can, however, have multiple subnets in one Availability Zone.    \n",
    "    \n",
    "    Subnets can be classified as public, private, or VPN-only. \n",
    "    A public subnet is one in which the associated route table (discussed later) directs the \n",
    "        subnet’s traffic to the Amazon VPC’s IGW (also discussed later). \n",
    "    A private subnet is one in which the associated route table does not direct the \n",
    "        subnet’s traffic to the Amazon VPC’s IGW. \n",
    "    A VPN-only subnet is one in which the associated route table directs the \n",
    "        subnet’s traffic to the Amazon VPC’s VPG (discussed later) and does not have a route to the IGW."
   ]
  },
  {
   "cell_type": "markdown",
   "metadata": {},
   "source": [
    "#### Route Tables\n",
    "    A route table is a logical construct within an Amazon VPC that contains a set of rules (called routes)\n",
    "        that are applied to the subnet and used to determine where network traffic is directed. \n",
    "    A route table’s routes are what permit Amazon EC2 instances within different subnets within \n",
    "        an Amazon VPC to communicate with each other.\n",
    "    You can also use route tables to specify which subnets are public (by directing Internet \n",
    "        traffic to the IGW) and which subnets are private (by not having a route that directs \n",
    "        traffic to the IGW).\n",
    "    Each subnet must be associated with a route table, which controls the routing for the subnet. \n",
    "    If you don’t explicitly associate a subnet with a particular route table, \n",
    "        the subnet uses the main route table."
   ]
  },
  {
   "cell_type": "markdown",
   "metadata": {},
   "source": [
    "#### Internet Gateways\n",
    "    An Internet Gateway (IGW) is a horizontally scaled, redundant, and highly available Amazon VPC \n",
    "        component that allows communication between instances in your Amazon VPC and the Internet. \n",
    "    An IGW provides a target in your Amazon VPC route tables for Internet-routable traffic, and it \n",
    "        performs network address translation for instances that have been assigned public IP addresses."
   ]
  },
  {
   "cell_type": "markdown",
   "metadata": {},
   "source": [
    "#### Dynamic Host Configuration Protocol (DHCP) Option Sets\n",
    "    Dynamic Host Configuration Protocol (DHCP) provides a standard for passing configuration information \n",
    "        to hosts on a TCP/IP network. \n",
    "    The options field of a DHCP message contains the configuration parameters."
   ]
  },
  {
   "cell_type": "markdown",
   "metadata": {},
   "source": [
    "#### Elastic IP Addresses (EIPs)\n",
    "    AWS maintains a pool of public IP addresses in each region and makes them available for you to\n",
    "        associate to resources within your Amazon VPCs. \n",
    "    An Elastic IP Addresses (EIP) is a static, public IP address in the pool for the region that you \n",
    "        can allocate to your account (pull from the pool) and release (return to the pool). \n",
    "    EIPs allow you to maintain a set of IP addresses that remain fixed while the underlying infrastructure\n",
    "        may change over time."
   ]
  },
  {
   "cell_type": "markdown",
   "metadata": {},
   "source": [
    "#### Elastic Network Interfaces (ENIs)\n",
    "    An Elastic Network Interface (ENI) is a virtual network interface that you can attach to an instance\n",
    "        in an Amazon VPC. \n",
    "    ENIs are only available within an Amazon VPC, and they are associated with a subnet upon creation. \n",
    "    They can have one public IP address and multiple private IP addresses."
   ]
  },
  {
   "cell_type": "markdown",
   "metadata": {},
   "source": [
    "#### Endpoints\n",
    "    An Amazon VPC endpoint enables you to create a private connection between your Amazon VPC and \n",
    "        another AWS service without requiring access over the Internet or through a NAT instance, \n",
    "        VPN connection, or AWS Direct Connect. \n",
    "    You can create multiple endpoints for a single service, and you can use different route tables to \n",
    "        enforce different access policies from different subnets to the same service.\n",
    "    Amazon VPC endpoints currently support communication with Amazon Simple Storage Service (Amazon S3)"
   ]
  },
  {
   "cell_type": "markdown",
   "metadata": {},
   "source": [
    "#### Peering\n",
    "    An Amazon VPC peering connection is a networking connection between two Amazon VPCs that enables \n",
    "        instances in either Amazon VPC to communicate with each other as if they are within the same network. \n",
    "    You can create an Amazon VPC peering connection between your own Amazon VPCs or with an Amazon VPC in \n",
    "        another AWS account within a single region.\n",
    "    A peering connection is neither a gateway nor an Amazon VPN connection and does not introduce a \n",
    "        single point of failure for communication.\n",
    "    Peering connections do not support transitive routing"
   ]
  },
  {
   "cell_type": "markdown",
   "metadata": {},
   "source": [
    "#### Security Groups\n",
    "    A security group is a virtual stateful firewall that controls inbound and outbound network traffic to \n",
    "        AWS resources and Amazon EC2 instances. \n",
    "    All Amazon EC2 instances must be launched into a security group. \n",
    "    If a security group is not specified at launch, then the instance will be launched into the default \n",
    "        security group for the Amazon VPC. \n",
    "    The default security group allows communication between all resources within the security group, \n",
    "        allows all outbound traffic, and denies all other traffic\n",
    "    \n",
    "    You can create up to 500 security groups for each Amazon VPC.\n",
    "    You can add up to 50 inbound and 50 outbound rules to each security group\n",
    "    You can specify allow rules, but not deny rules. \n",
    "        This is an important difference between security groups and ACLs.\n",
    "    You can specify separate rules for inbound and outbound traffic.\n",
    "    Security groups are stateful. This means that responses to allowed inbound traffic are allowed \n",
    "        to flow outbound regardless of outbound rules and vice versa. \n",
    "        This is an important difference between security groups and network ACLs.\n",
    "    Instances associated with the same security group can’t talk to each other unless you \n",
    "        add rules allowing it (with the exception being the default security group)."
   ]
  },
  {
   "cell_type": "markdown",
   "metadata": {},
   "source": [
    "#### Network Access Control Lists (ACLs)\n",
    "    A network access control list (ACL) is another layer of security that acts as a stateless firewall \n",
    "        on a subnet level. \n",
    "    A network ACL is a numbered list of rules that AWS evaluates in order, starting with the lowest \n",
    "        numbered rule, to determine whether traffic is allowed in or out of any subnet associated with \n",
    "        the network ACL. \n",
    "    Amazon VPCs are created with a modifiable default network ACL associated with every subnet that \n",
    "        allows all inbound and outbound traffic. \n",
    "    When you create a custom network ACL, its initial configuration will deny all inbound and \n",
    "        outbound traffic until you create rules that allow otherwise"
   ]
  },
  {
   "cell_type": "markdown",
   "metadata": {},
   "source": [
    "#### Network Address Translation (NAT) Instances and NAT Gateways\n",
    "    If the instances within private subnets need direct access to the Internet from the Amazon VPC in \n",
    "        order to apply security updates, download patches, or update application software. \n",
    "        AWS provides NAT instances and NAT gateways to allow instances deployed in private subnets \n",
    "        to gain Internet access. \n",
    "    For common use cases, we recommend that you use a NAT gateway instead of a NAT instance. \n",
    "    The NAT gateway provides better availability and higher bandwidth, and requires less \n",
    "        administrative effort than NAT instances.\n",
    "        \n",
    "    NAT Instance\n",
    "        A network address translation (NAT) instance is an Amazon Linux Amazon Machine Image (AMI) \n",
    "            that is designed to accept traffic from instances within a private subnet, translate the source \n",
    "            IP address to the public IP address of the NAT instance, and forward the traffic to the IGW.        \n",
    "        Create a security group for the NAT with outbound rules that specify the needed Internet \n",
    "            resources by port, protocol, and IP address.\n",
    "        Launch an Amazon Linux NAT AMI as an instance in a public subnet and associate it with the \n",
    "            NAT security group.\n",
    "        Disable the Source/Destination Check attribute of the NAT.\n",
    "        Configure the route table associated with a private subnet to direct Internet-bound \n",
    "            traffic to the NAT instance (for example, i-1a2b3c4d).\n",
    "        Allocate an EIP and associate it with the NAT instance.\n",
    "    \n",
    "    NAT Gateway        \n",
    "        Configure the route table associated with the private subnet to direct Internet-bound traffic \n",
    "            to the NAT gateway (for example, nat-1a2b3c4d).\n",
    "        Allocate an EIP and associate it with the NAT gateway."
   ]
  },
  {
   "cell_type": "markdown",
   "metadata": {},
   "source": [
    "#### Virtual Private Gateways (VPGs), Customer Gateways (CGWs), and Virtual Private Networks (VPNs)\n",
    "    A virtual private gateway (VPG) is the virtual private network (VPN) concentrator on the AWS side \n",
    "        of the VPN connection between the two networks. \n",
    "    A customer gateway (CGW) represents a physical device or a software application on the customer’s \n",
    "        side of the VPN connection. \n",
    "    After these two elements of an Amazon VPC have been created, the last step is to create a VPN tunnel. \n",
    "    The VPN tunnel is established after traffic is generated from the customer’s side of the VPN connection\n",
    "    \n",
    "    If you will be using static routing, you must enter the routes for your network that should be \n",
    "        communicated to the VPG. Routes will be propagated to the Amazon VPC to allow your resources to \n",
    "        route network traffic back to the corporate network through the VGW and across the VPN tunnel."
   ]
  }
 ],
 "metadata": {
  "kernelspec": {
   "display_name": "Python 3",
   "language": "python",
   "name": "python3"
  },
  "language_info": {
   "codemirror_mode": {
    "name": "ipython",
    "version": 3
   },
   "file_extension": ".py",
   "mimetype": "text/x-python",
   "name": "python",
   "nbconvert_exporter": "python",
   "pygments_lexer": "ipython3",
   "version": "3.5.2"
  }
 },
 "nbformat": 4,
 "nbformat_minor": 2
}
