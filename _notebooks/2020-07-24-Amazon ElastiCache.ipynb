{
 "cells": [
  {
   "cell_type": "markdown",
   "metadata": {},
   "source": [
    "# Amazon ElastiCache\n",
    "> Introduction to Amazon ElastiCache\n",
    "\n",
    "- toc: true \n",
    "- comments: true\n",
    "- author: Ankush Agarwal\n",
    "- categories: [aws, ElastiCache]"
   ]
  },
  {
   "cell_type": "markdown",
   "metadata": {},
   "source": [
    "### Amazon ElastiCache\n",
    "    With Amazon ElastiCache, you can choose from a Memcached or Redis protocol-compliant cache engine and \n",
    "        quickly launch a cluster within minutes.\n",
    "    Memcached provides a very simple interface that allows you to write and read objects into \n",
    "        in-memory key/value data stores.\n",
    "    With Amazon ElastiCache, you can elastically grow and shrink a cluster of Memcached nodes to meet your \n",
    "        demands. \n",
    "    You can partition your cluster into shards and support parallelized operations for very high \n",
    "        performance throughput. \n",
    "        \n",
    "    Memcached deals with objects as blobs that can be retrieved using a unique key.\n",
    "    Unlike Memcached, Redis supports the ability to persist the in-memory data onto disk. \n",
    "    This allows you to create snapshots that back up your data and then recover or replicate from the backups.\n",
    "    Redis clusters also can support up to five read replicas to offload read requests. \n",
    "    In the event of failure of the primary node, a read replica can be promoted and become the new master \n",
    "        using Multi-AZ replication groups.\n",
    "    Redis also has advanced features that make it easy to sort and rank data.\n",
    "    A single Memcached cluster can contain up to 20 nodes. \n",
    "    Redis clusters are always made up of a single node; however, multiple clusters can be grouped into a \n",
    "        Redis replication group.\n",
    "        \n",
    "    Horizontal Scaling \n",
    "    Amazon ElastiCache also adds additional functionality that allows you to scale horizontally the size of \n",
    "        your cache environment. \n",
    "    This functionality differs depending on the cache engine you have selected. \n",
    "    With Memcached, you can partition your data and scale horizontally to 20 nodes or more. \n",
    "    With Auto Discovery, your application can discover Memcached nodes that are added or removed from a cluster\n",
    "    While you can only have one node handling write commands, you can have up to five read replicas \n",
    "        handling read-only requests.\n",
    "    \n",
    "    Vertical Scaling\n",
    "    You can, however, quickly spin up a new cluster with the desired cache node types and start redirecting \n",
    "        traffic to the new cluster. \n",
    "    It’s important to understand that a new Memcached cluster always starts empty, while a Redis cluster \n",
    "        can be initialized from a backup."
   ]
  }
 ],
 "metadata": {
  "kernelspec": {
   "display_name": "Python 3",
   "language": "python",
   "name": "python3"
  },
  "language_info": {
   "codemirror_mode": {
    "name": "ipython",
    "version": 3
   },
   "file_extension": ".py",
   "mimetype": "text/x-python",
   "name": "python",
   "nbconvert_exporter": "python",
   "pygments_lexer": "ipython3",
   "version": "3.5.2"
  }
 },
 "nbformat": 4,
 "nbformat_minor": 2
}
