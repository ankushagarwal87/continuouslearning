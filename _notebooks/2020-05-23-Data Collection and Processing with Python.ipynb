{
 "cells": [
  {
   "cell_type": "markdown",
   "metadata": {},
   "source": [
    "# Data Collection and Processing with Python\n",
    "> Data Collection and Processing\n",
    "\n",
    "- toc: true \n",
    "- comments: true\n",
    "- author: Ankush Agarwal\n",
    "- categories: [Python, Data Collection]"
   ]
  },
  {
   "cell_type": "markdown",
   "metadata": {},
   "source": [
    "### Nested Data\n",
    "\n",
    "    list = [[1,2][3,4]]\n",
    "    dict = {'a':{'b':'c'}}\n",
    "    \n",
    "#### JSON   "
   ]
  },
  {
   "cell_type": "code",
   "execution_count": 1,
   "metadata": {},
   "outputs": [
    {
     "name": "stdout",
     "output_type": "stream",
     "text": [
      "dict_keys(['menu'])\n"
     ]
    }
   ],
   "source": [
    "import json\n",
    "a = '{\"menu\": {\"id\": \"file\",\"value\": \"File\",\"popup\": {\"menuitem\": [{\"value\": \"New\", \"onclick\": \"CreateNewDoc()\"}]}}}'\n",
    "dictionary = json.loads(a) ## convert json object to dictionary\n",
    "print(dictionary.keys())"
   ]
  },
  {
   "cell_type": "code",
   "execution_count": 2,
   "metadata": {},
   "outputs": [
    {
     "name": "stdout",
     "output_type": "stream",
     "text": [
      "{\"a\": {\"b\": \"c\"}}\n"
     ]
    }
   ],
   "source": [
    "dictionary = {'a':{'b':'c'}}\n",
    "print(json.dumps(dictionary)) ## convert dictionary to json"
   ]
  },
  {
   "cell_type": "markdown",
   "metadata": {
    "collapsed": true
   },
   "source": [
    "### Nested Iteration\n",
    "\n",
    "    for x in y: \n",
    "        for y in z:\n",
    "        \n",
    "#### Deep & Shallow Copy\n",
    "\n",
    "    list_a=[[2,3][4,5]]\n",
    "    list_b=list_a\n",
    "    list_a([0]).append([4])\n",
    "    list b also has new value added - shallow copy\n",
    "    \n",
    "    import copy\n",
    "    list_c=copy.deepcopy(list_a)\n",
    "    \n",
    "    Shallow Copy\n",
    "         A shallow copy of an object copies the ‘main’ object, but doesn’t copy the inner objects. The ‘inner                objects’ are shared between the original object and its copy.\n",
    "         The problem with the shallow copy is that the two objects are not independent.\n",
    "         copy.copy(object)\n",
    "    Deep copy\n",
    "        Deep copy is a fully independent copy of an object\n",
    "        copy.deepcopy(object)\n",
    "        "
   ]
  },
  {
   "cell_type": "markdown",
   "metadata": {},
   "source": [
    "### Map and Filter"
   ]
  },
  {
   "cell_type": "code",
   "execution_count": 6,
   "metadata": {},
   "outputs": [
    {
     "name": "stdout",
     "output_type": "stream",
     "text": [
      "[1, 4]\n",
      "[1, 4]\n"
     ]
    }
   ],
   "source": [
    "def square(x):\n",
    "    return x*x\n",
    "\n",
    "list_a=[1,2]\n",
    "list_b=map(square,list_a) ## Call square function on each values\n",
    "print(list(list_b))\n",
    "list_c=map(lambda x:x*x,list_a) ###Can be used on any type (map(function,itearable))\n",
    "print(list(list_c))"
   ]
  },
  {
   "cell_type": "code",
   "execution_count": 10,
   "metadata": {},
   "outputs": [
    {
     "name": "stdout",
     "output_type": "stream",
     "text": [
      "[2]\n"
     ]
    }
   ],
   "source": [
    "list_a=[1,2]\n",
    "list_b=filter(lambda x:x%2==0,list_a)\n",
    "print(list(list_b))"
   ]
  },
  {
   "cell_type": "markdown",
   "metadata": {},
   "source": [
    "### List Comprehensions\n",
    "\n",
    "    [<transfor_operation> for <varname> in <seq> if <filter_expression>]"
   ]
  },
  {
   "cell_type": "code",
   "execution_count": 11,
   "metadata": {},
   "outputs": [
    {
     "name": "stdout",
     "output_type": "stream",
     "text": [
      "[2, 4]\n"
     ]
    }
   ],
   "source": [
    "list_a=[1,2]\n",
    "list_b=[x*2 for x in list_a]\n",
    "print(list_b)"
   ]
  },
  {
   "cell_type": "code",
   "execution_count": 13,
   "metadata": {},
   "outputs": [
    {
     "name": "stdout",
     "output_type": "stream",
     "text": [
      "[2]\n"
     ]
    }
   ],
   "source": [
    "list_a=[1,2]\n",
    "list_b=[x for x in list_a if x%2==0]\n",
    "print(list_b)"
   ]
  },
  {
   "cell_type": "markdown",
   "metadata": {},
   "source": [
    "### Zip"
   ]
  },
  {
   "cell_type": "code",
   "execution_count": 17,
   "metadata": {},
   "outputs": [
    {
     "name": "stdout",
     "output_type": "stream",
     "text": [
      "[(1, 3), (2, 4)]\n"
     ]
    }
   ],
   "source": [
    "list_a=[1,2]\n",
    "list_b=[3,4]\n",
    "list_c=zip(list_a,list_b)\n",
    "print(list(list_c))"
   ]
  },
  {
   "cell_type": "markdown",
   "metadata": {},
   "source": [
    "### Requesting Data from the Internet\n"
   ]
  },
  {
   "cell_type": "code",
   "execution_count": 19,
   "metadata": {},
   "outputs": [
    {
     "name": "stdout",
     "output_type": "stream",
     "text": [
      "<Response [200]>\n"
     ]
    }
   ],
   "source": [
    "import requests\n",
    "page=requests.get(\"https://www.google.com/\")\n",
    "print(page)\n",
    "#print(page.text)"
   ]
  },
  {
   "cell_type": "code",
   "execution_count": null,
   "metadata": {
    "collapsed": true
   },
   "outputs": [],
   "source": []
  }
 ],
 "metadata": {
  "kernelspec": {
   "display_name": "Python 3",
   "language": "python",
   "name": "python3"
  },
  "language_info": {
   "codemirror_mode": {
    "name": "ipython",
    "version": 3
   },
   "file_extension": ".py",
   "mimetype": "text/x-python",
   "name": "python",
   "nbconvert_exporter": "python",
   "pygments_lexer": "ipython3",
   "version": "3.5.2"
  }
 },
 "nbformat": 4,
 "nbformat_minor": 2
}
