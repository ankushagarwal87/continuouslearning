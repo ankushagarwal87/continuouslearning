{
 "cells": [
  {
   "cell_type": "markdown",
   "metadata": {},
   "source": [
    "# AWS VPC - NAT vs EndPoint\n",
    "> Comparison\n",
    "\n",
    "- toc: true \n",
    "- comments: true\n",
    "- author: Ankush Agarwal\n",
    "- categories: [aws]"
   ]
  },
  {
   "cell_type": "markdown",
   "metadata": {},
   "source": [
    "### Comparison\n",
    "\n",
    "    The following table shows the options you have if you decide to stay in private subnets.\n",
    "\t                        Gateway VPC Endpoint \tInterface VPC Endpoint \tNAT Gateway\n",
    "    Supported AWS services \tS3, DynamoDB \tsome \t                all\n",
    "    Price per hour1 \t    free \t        $0.01 \t                $0.045\n",
    "    Price per GB1 \t        free \t        $0.01 \t                $0.045\n",
    "\n",
    "As you can see, using Gateway VPC Endpoints is cheaper than using Interface VPC Endpoint which is cheaper than using NAT Gateways\n",
    "\n",
    "\n",
    "Nat Gateway Usage for 15 GB monthly usage for 1 NAT Gateway\n",
    "\n",
    "    730 hours in a month x 0.045 USD = 32.85 USD (Gateway usage hourly cost)\n",
    "    15 GB per month x 0.045 USD = 0.68 USD (NAT Gateway data processing cost)\n",
    "    32.85 USD + 0.68 USD = 33.53 USD (NAT Gateway processing and month hours)\n",
    "    1 NAT Gateways x 33.53 USD = 33.53 USD (Total NAT Gateway usage and data processing cost)\n",
    "\n",
    "    Total NAT Gateway usage and data processing cost (monthly): 33.53 USD\n",
    "    \n",
    "\n",
    "InterFace EndPoint Usage for 15 GB Monthly Usage for 1 VPC EndPoint\n",
    "\n",
    "    730 hours in a month x 0.01 USD = 7.30 USD (Hourly cost for endpoint ENI)\n",
    "    15 GB per month x 0.01 USD = 0.15 USD (PrivateLink data processing cost)\n",
    "    7.30 USD + 0.15 USD = 7.45 USD (Hourly cost and data processing per endpoint ENI)\n",
    "    1 VPC endpoints x 1 ENIs per VPC endpoint x 7.45 USD = 7.45 USD (Total PrivateLink endpoints and data processing cost)\n",
    "\n",
    "    Total PrivateLink endpoints and data processing cost (monthly): 7.45 USD\n",
    "    \n",
    "    \n",
    "Gateway EndPoint Usage for 15 GB Monthly Usage\n",
    "\n",
    "    Intra region:\n",
    "    (15 GB x 0.01 USD per GB outbound) + (15 GB x 0.01 USD per GB inbound) = 0.30 USD \n",
    "\n",
    "    Data Transfer cost (monthly): 0.30 USD"
   ]
  },
  {
   "cell_type": "markdown",
   "metadata": {},
   "source": [
    "### Question\n",
    "\n",
    "    We don't need NAT Gateway in Prod to run 24*7 for accessing EC2 instance or we can run it only when needed\n",
    "    If its free atleast Data transfer charges will not apply \n",
    "    "
   ]
  },
  {
   "cell_type": "markdown",
   "metadata": {},
   "source": [
    "### References\n",
    "    https://docs.aws.amazon.com/vpc/latest/userguide/vpc-endpoints.html\n",
    "    https://docs.aws.amazon.com/vpc/latest/userguide/vpce-gateway.html\n",
    "    "
   ]
  }
 ],
 "metadata": {
  "kernelspec": {
   "display_name": "Python 3",
   "language": "python",
   "name": "python3"
  },
  "language_info": {
   "codemirror_mode": {
    "name": "ipython",
    "version": 3
   },
   "file_extension": ".py",
   "mimetype": "text/x-python",
   "name": "python",
   "nbconvert_exporter": "python",
   "pygments_lexer": "ipython3",
   "version": "3.5.2"
  }
 },
 "nbformat": 4,
 "nbformat_minor": 2
}
