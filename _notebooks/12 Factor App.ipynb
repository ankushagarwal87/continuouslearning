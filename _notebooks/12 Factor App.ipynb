{
 "cells": [
  {
   "cell_type": "markdown",
   "metadata": {},
   "source": [
    "# 12 Factor App\n",
    "> 12 Factor App\n",
    "\n",
    "- toc: true \n",
    "- comments: true\n",
    "- author: Ankush Agarwal\n",
    "- categories: [12 Factor App, Design]"
   ]
  },
  {
   "cell_type": "markdown",
   "metadata": {},
   "source": [
    "### I. Codebase\n",
    "    One codebase tracked in revision control, many deploys\n",
    "    Multiple apps sharing the same code is a violation of twelve-factor. \n",
    "    The solution here is to factor shared code into libraries which can be included through \n",
    "        the dependency manager.\n",
    "    A deploy is a running instance of the app. This is typically a production site, and one or \n",
    "        more staging sites.\n",
    "        \n",
    "    Observations:\n",
    "        Done for all apps"
   ]
  },
  {
   "cell_type": "markdown",
   "metadata": {},
   "source": [
    "### II. Dependencies\n",
    "    Explicitly declare and isolate dependencies\n",
    "    The full and explicit dependency specification is applied uniformly to both production and development.\n",
    "    \n",
    "    Questions:\n",
    "    Check if any app uses any server dependency for execution\n",
    "        How easy/difficult to migrate it to another server\n",
    "        Can we just run build command to do local setup \n",
    "        Tivoli agent on server ?\n",
    "        Data Source configuration ?\n",
    "        \n",
    "    Observations:\n",
    "        Maven take care of dependency in Java\n",
    "        Virtual env in Python            "
   ]
  },
  {
   "cell_type": "markdown",
   "metadata": {},
   "source": [
    "### III. Config\n",
    "    Store config in the environment\n",
    "    Strict separation of config from code. \n",
    "    Config varies substantially across deploys, code does not.    \n",
    "    The twelve-factor app stores config in environment variables (often shortened to env vars or env). \n",
    "    Env vars are easy to change between deploys without changing any code; unlike config files, \n",
    "        there is little chance of them being checked into the code repo accidentally; \n",
    "        and unlike custom config files, or other config mechanisms such as Java System Properties, \n",
    "        they are a language- and OS-agnostic standard.    \n",
    "    Based on environment application itself point to correct setting\n",
    "    \n",
    "    Questions:\n",
    "        How to manage environment properties, we generally don't track them in codebase \n",
    "        Should we keep all properties in codebase with suffix ?\n",
    "        \n",
    "    Observations:\n",
    "        Generally done for environment related properties \n",
    "        "
   ]
  },
  {
   "cell_type": "markdown",
   "metadata": {},
   "source": [
    "### IV. Backing services\n",
    "    Treat backing services as attached resources\n",
    "    A backing service is any service the app consumes over the network as part of its normal operation. \n",
    "        Examples include datastores (such as MySQL or CouchDB), messaging/queueing systems \n",
    "        (such as RabbitMQ or Beanstalkd),SMTP services for outbound email (such as Postfix), \n",
    "        and caching systems (such as Memcached).\n",
    "    To the app, both are attached resources, accessed via a URL or other locator/credentials \n",
    "        stored in the config.\n",
    "    A deploy of the twelve-factor app should be able to swap out a local MySQL database with \n",
    "        one managed by a third party (such as Amazon RDS) without any changes to the app’s code.\n",
    "        \n",
    "    Observations:\n",
    "        Generally done for all database, queue"
   ]
  },
  {
   "cell_type": "markdown",
   "metadata": {},
   "source": [
    "### V. Build, release, run\n",
    "    Strictly separate build and run stages    \n",
    "    The twelve-factor app uses strict separation between the build, release, and run stages. \n",
    "        For example, it is impossible to make changes to the code at runtime, \n",
    "        since there is no way to propagate those changes back to the build stage.\n",
    "        \n",
    "    Observations:\n",
    "        Generally done for all apps"
   ]
  },
  {
   "cell_type": "markdown",
   "metadata": {},
   "source": [
    "### VI. Processes\n",
    "    Execute the app as one or more stateless processes\n",
    "    Twelve-factor processes are stateless and share-nothing. \n",
    "    Any data that needs to persist must be stored in a stateful backing service, typically a database.\n",
    "    The twelve-factor app never assumes that anything cached in memory or on disk \n",
    "        will be available on a future request or job        \n",
    "    Some web systems rely on “sticky sessions” – that is, caching user session data in memory\n",
    "        of the app’s process and expecting future requests from the same visitor to be routed \n",
    "        to the same process. \n",
    "    Sticky sessions are a violation of twelve-factor and should never be used or relied upon. \n",
    "    Session state data is a good candidate for a datastore that offers time-expiration, \n",
    "        such as Memcached or Redis.\n",
    "        \n",
    "    Observation:\n",
    "           Generally done for all apps"
   ]
  },
  {
   "cell_type": "markdown",
   "metadata": {},
   "source": [
    "### VII. Port binding\n",
    "    Export services via port binding\n",
    "    The twelve-factor app is completely self-contained and does not rely on runtime injection \n",
    "        of a webserver into the execution environment to create a web-facing service\n",
    "    The web app exports HTTP as a service by binding to a port, and listening to requests\n",
    "        coming in on that port.        \n",
    "    Spring Boot, apart from many other benefits, provides us with a default embedded application server. \n",
    "    Hence, the JAR we generated earlier using Maven is fully capable of executing in any \n",
    "        environment just by having a compatible Java runtime\n",
    "        \n",
    "    Observations:\n",
    "        Work fine for Sprint Boot application - don't need any runtime container"
   ]
  },
  {
   "cell_type": "markdown",
   "metadata": {},
   "source": [
    "### VIII. Concurrency\n",
    "    Scale out via the process model\n",
    "    Application must also be able to span multiple processes running on multiple physical machines.\n",
    "    The share-nothing, horizontally partitionable nature of twelve-factor app processes means that \n",
    "        adding more concurrency is a simple and reliable operation.\n",
    "        \n",
    "    Observation:\n",
    "        Genrally done for all handler applications\n",
    "    \n",
    "    Question:\n",
    "        How to achieve it in Batch mode"
   ]
  },
  {
   "cell_type": "markdown",
   "metadata": {},
   "source": [
    "### IX. Disposability\n",
    "    Maximize robustness with fast startup and graceful shutdown\n",
    "    The twelve-factor app’s processes are disposable, meaning they can be started or stopped \n",
    "        at a moment’s notice. \n",
    "    This facilitates fast elastic scaling, rapid deployment of code or config changes, \n",
    "        and robustness of production deploys.\n",
    "    The application should expose idempotent services. \n",
    "    This gives the flexibility to stop, move, or spin new services at any time without any other considerations.\n",
    "    \n",
    "    Observations:\n",
    "        Generally done for all applications\n",
    "       \n",
    "    Question:\n",
    "        If any handler is processing request from queue will it stay in queue or thrown away.\n",
    "        "
   ]
  },
  {
   "cell_type": "markdown",
   "metadata": {},
   "source": [
    "### X. Dev/prod parity\n",
    "    Keep development, staging, and production as similar as possible\n",
    "    \n",
    "    The time gap: A developer may work on code that takes days, weeks, or even months to go into production.\n",
    "    The personnel gap: Developers write code, ops engineers deploy it.\n",
    "    The tools gap: Developers may be using a stack like Nginx, SQLite, and OS X, while the production deploy \n",
    "        uses Apache, MySQL, and Linux\n",
    "\n",
    "    The twelve-factor app is designed for continuous deployment by keeping the gap between \n",
    "        development and production small. Looking at the three gaps described above:        \n",
    "    \n",
    "    Make the time gap small: a developer may write code and have it deployed hours or even just minutes later.\n",
    "    Make the personnel gap small: developers who wrote code are closely involved in deploying it and watching \n",
    "        its behavior in production.\n",
    "    Make the tools gap small: keep development and production as similar as possible.\n",
    "    \n",
    "    All deploys of the app (developer environments, staging, production) should be using the same type and \n",
    "        version of each of the backing services.\n",
    "\n",
    "    Observation:\n",
    "        Time gap can be improved"
   ]
  },
  {
   "cell_type": "markdown",
   "metadata": {},
   "source": [
    "### XI. Logs\n",
    "    Treat logs as event streams\n",
    "    A twelve-factor app never concerns itself with routing or storage of its output stream. \n",
    "    It should not attempt to write to or manage logfiles. \n",
    "    Instead, each running process writes its event stream, unbuffered, to stdout. \n",
    "    During local development, the developer will view this stream in the foreground of their \n",
    "        terminal to observe the app’s behavior.\n",
    "    The capture, storage, curation, and archival of such stream should be handled by the execution environment.\n",
    "    To begin with, we can use SLF4J to handle logging abstractly within our application. \n",
    "    Moreover, we can use a tool like Fluentd to collect the stream of logs from applications and backing services.\n",
    "    This we can feed into Elasticsearch for storage and indexing. \n",
    "    Finally, we can generate meaningful dashboards for visualization in Kibana.\n",
    "    \n",
    "    Observations:\n",
    "        Generally application log data\n",
    "        \n",
    "    Question:\n",
    "        What are the alternative to achieve this."
   ]
  },
  {
   "cell_type": "markdown",
   "metadata": {},
   "source": [
    "### XII. Admin processes\n",
    "    Run admin/management tasks as one-off processes\n",
    "    The twelve-factor methodology strongly suggests keeping such admin scripts together with the \n",
    "        application codebase. \n",
    "    In doing so, it should follow the same principles as we apply to the main application codebase. \n",
    "    It's also advisable to use a built-in REPL tool of the execution environment to run such scripts \n",
    "        on production servers."
   ]
  },
  {
   "cell_type": "code",
   "execution_count": null,
   "metadata": {
    "collapsed": true
   },
   "outputs": [],
   "source": []
  }
 ],
 "metadata": {
  "kernelspec": {
   "display_name": "Python 3",
   "language": "python",
   "name": "python3"
  },
  "language_info": {
   "codemirror_mode": {
    "name": "ipython",
    "version": 3
   },
   "file_extension": ".py",
   "mimetype": "text/x-python",
   "name": "python",
   "nbconvert_exporter": "python",
   "pygments_lexer": "ipython3",
   "version": "3.5.2"
  }
 },
 "nbformat": 4,
 "nbformat_minor": 2
}
