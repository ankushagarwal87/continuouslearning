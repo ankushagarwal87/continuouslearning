{
 "cells": [
  {
   "cell_type": "markdown",
   "metadata": {},
   "source": [
    "# Amazon ELB, CloudWatch, Auto Scaling\n",
    "> Introduction to AWS ELB, CloudWatch, Auto Scaling\n",
    "\n",
    "- toc: true \n",
    "- comments: true\n",
    "- author: Ankush Agarwal\n",
    "- categories: [aws, elb, cloudwatch, auto scaling]"
   ]
  },
  {
   "cell_type": "markdown",
   "metadata": {},
   "source": [
    "### Introduction\n",
    "    Elastic Load Balancing is a highly available service that distributes traffic across Amazon Elastic \n",
    "        Compute Cloud (Amazon EC2) instances and includes options that provide flexibility and control \n",
    "        of incoming requests to Amazon EC2 instances.\n",
    "        \n",
    "    Amazon CloudWatch is a service that monitors AWS Cloud resources and applications running on AWS. \n",
    "        It collects and tracks metrics, collects and monitors log files, and sets alarms. \n",
    "        Amazon CloudWatch has a basic level of monitoring for no cost and a more detailed level of \n",
    "        monitoring for an additional cost.\n",
    "    \n",
    "    Auto Scaling is a service that allows you to maintain the availability of your applications by \n",
    "        scaling Amazon EC2 capacity up or down in accordance with conditions you set."
   ]
  },
  {
   "cell_type": "markdown",
   "metadata": {},
   "source": [
    "### Elastic Load Balancing\n",
    "    The Elastic Load Balancing service allows you to distribute traffic across a group of Amazon EC2 instances \n",
    "        in one or more Availability Zones, enabling you to achieve high availability in your applications. \n",
    "    Elastic Load Balancing supports routing and load balancing of Hypertext Transfer Protocol (HTTP), \n",
    "        Hypertext Transfer Protocol Secure (HTTPS), Transmission Control Protocol (TCP), and Secure Sockets \n",
    "        Layer (SSL) traffic to Amazon EC2 instances. \n",
    "    Elastic Load Balancing provides a stable, single Canonical Name record (CNAME) entry point for Domain Name\n",
    "        System (DNS) configuration and supports both Internet-facing and internal application-facing load\n",
    "        balancers. \n",
    "    Elastic Load Balancing supports health checks for Amazon EC2 instances to ensure traffic is not routed \n",
    "        to unhealthy or failing instances."
   ]
  },
  {
   "cell_type": "markdown",
   "metadata": {},
   "source": [
    "#### Types of Load Balancers\n",
    "    Internet-Facing Load Balancers\n",
    "        An Internet-facing load balancer is, as the name implies, a load balancer that takes requests from \n",
    "            clients over the Internet and distributes them to Amazon EC2 instances that are registered with \n",
    "            the load balancer.\n",
    "        When you configure a load balancer, it receives a public DNS name that clients can use to send requests \n",
    "            to your application. The DNS servers resolve the DNS name to your load balancer’s public IP \n",
    "            address, which can be visible to client applications.\n",
    "    \n",
    "    Internal Load Balancers\n",
    "        In a multi-tier application, it is often useful to load balance between the tiers of the application. \n",
    "        You can use internal load balancers to route traffic to your Amazon EC2 instances in VPCs with \n",
    "            private subnets.\n",
    "            \n",
    "    HTTPS Load Balancers\n",
    "        You can create a load balancer that uses the SSL/Transport Layer Security (TLS) protocol for \n",
    "            encrypted connections (also known as SSL offload). \n",
    "        This feature enables traffic encryption between your load balancer and the clients that initiate \n",
    "            HTTPS sessions, and for connections between your load balancer and your back-end instances."
   ]
  },
  {
   "cell_type": "markdown",
   "metadata": {},
   "source": [
    "#### Listeners\n",
    "    Every load balancer must have one or more listeners configured. \n",
    "    A listener is a process that checks for connection requests—for example, a CNAME configured to the \n",
    "        A record name of the load balancer. \n",
    "    Every listener is configured with a protocol and a port (client to load balancer) for a front-end \n",
    "        connection and a protocol and a port for the back-end (load balancer to Amazon EC2 instance) connection.\n",
    "    \n",
    "    Elastic Load Balancing supports the following protocols:\n",
    "    HTTP\n",
    "    HTTPS\n",
    "    TCP\n",
    "    SSL\n",
    "   \n",
    "    Elastic Load Balancing supports protocols operating at two different Open System Interconnection (OSI) layer\n",
    "    In the OSI model, Layer 4 is the transport layer that describes the TCP connection between the client \n",
    "        and your back-end instance through the load balancer. \n",
    "    Layer 4 is the lowest level that is configurable for your load balancer. \n",
    "    Layer 7 is the application layer that describes the use of HTTP and HTTPS connections from clients to \n",
    "        the load balancer and from the load balancer to your back-end instance.\n",
    "\n",
    "    The SSL protocol is primarily used to encrypt confidential data over insecure networks such as the Internet.\n",
    "    The SSL protocol establishes a secure connection between a client and the back-end server and ensures \n",
    "        that all the data passed between your client and your server is private."
   ]
  },
  {
   "cell_type": "markdown",
   "metadata": {},
   "source": [
    "#### Configuring Elastic Load Balancing\n",
    "    Elastic Load Balancing allows you to configure many aspects of the load balancer, including idle \n",
    "        connection timeout, cross-zone load balancing, connection draining, proxy protocol, sticky sessions, \n",
    "        and health checks"
   ]
  },
  {
   "cell_type": "markdown",
   "metadata": {},
   "source": [
    "### Amazon CloudWatch\n",
    "    Amazon CloudWatch offers either basic or detailed monitoring for supported AWS products. \n",
    "    Basic monitoring sends data points to Amazon CloudWatch every five minutes for a limited number of \n",
    "        preselected metrics at no charge. \n",
    "    Detailed monitoring sends data points to Amazon CloudWatch every minute and allows data aggregation for \n",
    "        an additional charge. If you want to use detailed monitoring, you must enable it—basic is the default.\n",
    "        \n",
    "    Amazon CloudWatch does not aggregate data across regions but can aggregate across Availability Zones \n",
    "        within a region.\n",
    "        \n",
    "    AWS provides a rich set of metrics included with each service, but you can also define custom metrics to\n",
    "        monitor resources and events AWS does not have visibility into—for example, Amazon EC2 instance memory\n",
    "        consumption and disk metrics that are visible to the operating system of the Amazon EC2 instance but \n",
    "        not visible to AWS or application-specific thresholds running on instances that are not known to AWS. \n",
    "    \n",
    "    Amazon CloudWatch supports an Application Programming Interface (API) that allows programs and scripts to \n",
    "        PUT metrics into Amazon CloudWatch as name-value pairs that can then be used to create events and \n",
    "        trigger alarms in the same manner as the default Amazon CloudWatch metrics.\n",
    "        \n",
    "    A CloudWatch Logs agent is available that provides an automated way to send log data to CloudWatch Logs \n",
    "        for Amazon EC2 instances running Amazon Linux or Ubuntu. \n",
    "    You can use the Amazon CloudWatch Logs agent installer on an existing Amazon EC2 instance to install and\n",
    "        configure the CloudWatch Logs agent. \n",
    "    After installation is complete, the agent confirms that it has started and it stays running until you \n",
    "        disable it.\n",
    "        \n",
    "    Each AWS account is limited to 5,000 alarms per AWS account, and metrics data is retained for two weeks \n",
    "        by default (at the time of this writing). \n",
    "    If you want to keep the data longer, you will need to move the logs to a persistent store like Amazon S3"
   ]
  },
  {
   "cell_type": "markdown",
   "metadata": {},
   "source": [
    "### Auto Scaling\n",
    "    Auto Scaling is a service that allows you to scale your Amazon EC2 capacity automatically by scaling out \n",
    "        and scaling in according to criteria that you define. With Auto Scaling, you can ensure that the number \n",
    "        of running Amazon EC2 instances increases during demand spikes or peak demand periods to maintain\n",
    "        application performance and decreases automatically during demand lulls or troughs to minimize costs."
   ]
  },
  {
   "cell_type": "markdown",
   "metadata": {},
   "source": [
    "#### Auto Scaling Plans\n",
    "    Maintain Current Instance Levels\n",
    "    Manual Scaling\n",
    "    Scheduled Scaling\n",
    "    Dynamic Scaling\n",
    "        For example, you might create a policy that adds more Amazon EC2 instances to the web tier when the \n",
    "            network bandwidth, measured by Amazon CloudWatch, reaches a certain threshold."
   ]
  },
  {
   "cell_type": "markdown",
   "metadata": {},
   "source": [
    "#### Auto Scaling Components\n",
    "    Launch Configuration\n",
    "        A launch configuration is the template that Auto Scaling uses to create new instances,and it is composed\n",
    "            of the configuration name, Amazon Machine Image (AMI), Amazon EC2 instance type, security group, \n",
    "            and instance key pair. \n",
    "        Each Auto Scaling group can have only one launch configuration at a time.\n",
    "        \n",
    "    Auto Scaling Group\n",
    "        An Auto Scaling group is a collection of Amazon EC2 instances managed by the Auto Scaling service.\n",
    "        Each Auto Scaling group contains configuration options that control when Auto Scaling should launch \n",
    "            new instances and terminate existing instances. \n",
    "        An Auto Scaling group can use either On-Demand or Spot Instances as the Amazon EC2 instances it manages.\n",
    "        On-Demand is the default, but Spot Instances can be used by referencing a maximum bid price in the \n",
    "            launch configuration (—spot-price \"0.15\") associated with the Auto Scaling group.\n",
    "        \n",
    "    Scaling Policy\n",
    "        You can associate Amazon CloudWatch alarms and scaling policies with an Auto Scaling group to adjust\n",
    "            Auto Scaling dynamically. \n",
    "        When a threshold is crossed, Amazon CloudWatch sends alarms to trigger changes (scaling in or out) \n",
    "            to the number of Amazon EC2 instances currently receiving traffic behind a load balancer. \n",
    "        After the Amazon CloudWatch alarm sends a message to the Auto Scaling group, Auto Scaling executes \n",
    "            the associated policy to scale your group. \n",
    "        The policy is a set of instructions that tells Auto Scaling whether to scale out, launching new \n",
    "            Amazon EC2 instances referenced in the associated launch configuration, or to scale in and \n",
    "            terminate nstances.\n",
    "        You can associate more than one scaling policy with an Auto Scaling group. \n",
    "        For example, you can create a policy using the trigger for CPU utilization, called CPULoad, and the\n",
    "            CloudWatch metric CPUUtilization to specify scaling out if CPU utilization is greater than 75 \n",
    "            percent for two minutes. \n",
    "        You could attach another policy to the same Auto Scaling group to scale in if CPU utilization is less \n",
    "            than 40 percent for 20 minutes."
   ]
  }
 ],
 "metadata": {
  "kernelspec": {
   "display_name": "Python 3",
   "language": "python",
   "name": "python3"
  },
  "language_info": {
   "codemirror_mode": {
    "name": "ipython",
    "version": 3
   },
   "file_extension": ".py",
   "mimetype": "text/x-python",
   "name": "python",
   "nbconvert_exporter": "python",
   "pygments_lexer": "ipython3",
   "version": "3.5.2"
  }
 },
 "nbformat": 4,
 "nbformat_minor": 2
}
