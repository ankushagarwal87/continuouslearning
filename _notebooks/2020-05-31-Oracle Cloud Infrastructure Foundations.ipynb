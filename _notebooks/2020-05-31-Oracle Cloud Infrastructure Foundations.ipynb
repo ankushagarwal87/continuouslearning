{
 "cells": [
  {
   "cell_type": "markdown",
   "metadata": {},
   "source": [
    "# Oracle Cloud Notes\n",
    "> Summary of Oracle Cloud\n",
    "\n",
    "- toc: true \n",
    "- comments: true\n",
    "- author: Ankush Agarwal\n",
    "- categories: [Oracle cloud]"
   ]
  },
  {
   "cell_type": "markdown",
   "metadata": {},
   "source": [
    "### Exam Topics\n",
    "\n",
    "#### Cloud Concepts\n",
    "#### Getting Started with OCI\n",
    "#### Core OCI Services\n",
    "#### Security & Compliance\n",
    "#### OCI Pricing, support & operations"
   ]
  },
  {
   "cell_type": "markdown",
   "metadata": {},
   "source": [
    "### Cloud Concept\n",
    "\n",
    "    On Demand Self Service\n",
    "    Broad Network Access\n",
    "    Resource Pooling\n",
    "    Rapid Elasticity\n",
    "    Measured Service\n",
    "    \n",
    "#### Service Model\n",
    "    Traditional IT\n",
    "    IaaS\n",
    "    PaaS\n",
    "    SaaS\n",
    "    "
   ]
  },
  {
   "cell_type": "markdown",
   "metadata": {},
   "source": [
    "### OCI Architecture\n",
    "\n",
    "    Regions\n",
    "        Avaliability Domain\n",
    "            Fault Domain\n",
    "    "
   ]
  },
  {
   "cell_type": "markdown",
   "metadata": {},
   "source": [
    "### OCI Compute Service\n",
    "\n",
    "    Bare Metal\n",
    "    Dedicated Virtual Hosts\n",
    "    Virtual Machine\n",
    "    Container Engine\n",
    "    Functions"
   ]
  },
  {
   "cell_type": "markdown",
   "metadata": {},
   "source": [
    "### OCI Storage Service\n",
    "    Block Volume\n",
    "    Local NVMe\n",
    "    File Storage\n",
    "    Object Storage\n",
    "    Archive Storage"
   ]
  },
  {
   "cell_type": "markdown",
   "metadata": {},
   "source": [
    "### OCI Networking Service\n",
    "    Virtual Cloud Network\n",
    "    VCN address space\n",
    "    VCN Security\n",
    "    Peering\n",
    "    Load Balancer"
   ]
  },
  {
   "cell_type": "markdown",
   "metadata": {},
   "source": [
    "### OCI IAM\n",
    "    IAM\n",
    "    Athentication\n",
    "    Authorization\n",
    "    Policies"
   ]
  },
  {
   "cell_type": "markdown",
   "metadata": {},
   "source": [
    "### OCI Database Services\n",
    "    DB Options\n",
    "        Virtal Machine\n",
    "        Bare Metal\n",
    "        RAC\n",
    "        Exadata\n",
    "        Autonamous - Shared\n",
    "        Autonamous - Dedicated\n",
    "    DB Operations\n",
    "    Backup/Restore"
   ]
  },
  {
   "cell_type": "markdown",
   "metadata": {},
   "source": [
    "### OCI Security\n",
    "    Shared Security Model\n",
    "    Security Services\n",
    "    IAM\n",
    "    Data Protection\n",
    "    OS Workload Isolation\n",
    "    Infrastructure Protection"
   ]
  },
  {
   "cell_type": "markdown",
   "metadata": {},
   "source": [
    "### OCI Pricing\n",
    "    "
   ]
  },
  {
   "cell_type": "code",
   "execution_count": null,
   "metadata": {
    "collapsed": true
   },
   "outputs": [],
   "source": []
  }
 ],
 "metadata": {
  "kernelspec": {
   "display_name": "Python 3",
   "language": "python",
   "name": "python3"
  },
  "language_info": {
   "codemirror_mode": {
    "name": "ipython",
    "version": 3
   },
   "file_extension": ".py",
   "mimetype": "text/x-python",
   "name": "python",
   "nbconvert_exporter": "python",
   "pygments_lexer": "ipython3",
   "version": "3.5.2"
  }
 },
 "nbformat": 4,
 "nbformat_minor": 2
}
