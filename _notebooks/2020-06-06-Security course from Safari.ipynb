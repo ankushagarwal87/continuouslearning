{
 "cells": [
  {
   "cell_type": "markdown",
   "metadata": {},
   "source": [
    "# Security Refresher\n",
    "> Introduction to Security \n",
    "\n",
    "- toc: true \n",
    "- master- badges: true\n",
    "- comments: true\n",
    "- author: Ankush Agarwal\n",
    "- categories: [Security]"
   ]
  },
  {
   "cell_type": "markdown",
   "metadata": {},
   "source": [
    "### Introduction\n",
    "    Attacker in the News\n",
    "        205 days median between Date of Evidence & Date of Discovery\n",
    "    What We Tell Others\n",
    "        When we educate people those also help attacker how to trick people\n",
    "            url text & hyperlink can be different\n",
    "            different browser can have different parsing way\n",
    "    Trusted vs Trustworthy\n",
    "        We trust browser\n",
    "        browser trust Certificate authority\n",
    "        CA can also be compromise\n",
    "    Security Features\n",
    "        One of the common misconceptions developers have is that engaging security features \n",
    "            means you have a secure system.\n",
    "        Encryption\n",
    "        Authentication\n",
    "        Authorization\n",
    "        Network & Controls\n",
    "        Why you might be a target\n",
    "        Quality of the software\n",
    "        Error Handling\n",
    "        Logging Strategy\n",
    "    Principle of Least Privilege\n",
    "        Avoid Fraud\n",
    "        Avoid Abuse\n",
    "        Avoid Privilege Escalation Attack\n",
    "    Attacking Infrastructure\n",
    "    Convincing Developers\n",
    "        Developer Support\n",
    "            Requirements\n",
    "            Budget\n",
    "            Training\n",
    "            Executive Backing\n",
    "    Beyond Perimeter Defense\n",
    "        Behind the Firewall\n",
    "            Do you rely on Physical security\n",
    "            Do you understand the risk in your system\n",
    "            Do you allow BYOD\n",
    "            Do you allow VPN\n",
    "            Do you allow employees to install software\n",
    "            Are their browser up to date\n",
    "            Are they trained to detect phishing/social engineering attack\n",
    "            Do you focus on code quality"
   ]
  },
  {
   "cell_type": "markdown",
   "metadata": {},
   "source": [
    "### Social Engineering\n",
    "\n",
    "    Word Stew\n",
    "        Secrecy\n",
    "        Privacy\n",
    "        Confidentiality\n",
    "        Integrity\n",
    "        Authenticity\n",
    "        \n",
    "    Economics of Security\n",
    "        Are Security Products,Tools,Efforts Worth it?\n",
    "            The value of the alarm system\n",
    "            How do you test it\n",
    "            Attacker doesn't participate in the test\n",
    "            Motivation of the attacker(profits)\n",
    "            Motivation of the victim(costs)\n",
    "    \n",
    "    Motivation\n",
    "        System Fails when\n",
    "            People protect the wrong things\n",
    "            Protecting the right things in wrong way\n",
    "            \n",
    "    Security Protocols"
   ]
  }
 ],
 "metadata": {
  "kernelspec": {
   "display_name": "Python 3",
   "language": "python",
   "name": "python3"
  },
  "language_info": {
   "codemirror_mode": {
    "name": "ipython",
    "version": 3
   },
   "file_extension": ".py",
   "mimetype": "text/x-python",
   "name": "python",
   "nbconvert_exporter": "python",
   "pygments_lexer": "ipython3",
   "version": "3.5.2"
  }
 },
 "nbformat": 4,
 "nbformat_minor": 2
}
