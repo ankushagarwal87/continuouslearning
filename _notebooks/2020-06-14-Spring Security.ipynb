{
 "cells": [
  {
   "cell_type": "markdown",
   "metadata": {},
   "source": [
    "# Spring Security\n",
    "> Spring Security\n",
    "\n",
    "- toc: true \n",
    "- comments: true\n",
    "- author: Ankush Agarwal\n",
    "- categories: [Spring Security]"
   ]
  },
  {
   "cell_type": "markdown",
   "metadata": {},
   "source": [
    "#### Intro\n",
    "    Application Security Framework\n",
    "    Handles common vulnerabilities\n",
    "    Username/password authentication\n",
    "    SSO/Okta/LDAP\n",
    "    App level Authorization\n",
    "    Intra App Authorization like OAuth\n",
    "    Microservice Security (Using Tokens, JWT)"
   ]
  },
  {
   "cell_type": "markdown",
   "metadata": {},
   "source": [
    "#### Five Core Concept in Spring Security\n",
    "\n",
    "    Authentication\n",
    "        Knowledge Based Authentication\n",
    "            Password\n",
    "            Pin\n",
    "            Answer to secret question\n",
    "        Possession Bases Authentication\n",
    "            Phone/Test Message\n",
    "            Id card\n",
    "            Access Token Device\n",
    "        Multi Factor Authentication\n",
    "        \n",
    "    Authorization    \n",
    "    Principal\n",
    "        Currently logged in user        \n",
    "    Granted Authority\n",
    "    Roles\n",
    "        Group of authority"
   ]
  },
  {
   "cell_type": "markdown",
   "metadata": {},
   "source": [
    "#### Adding Spring Security\n",
    "    spring-boot-starter-security \n",
    "    \n",
    "    spring.security.user.name=X\n",
    "    spring.security.user.password=Y"
   ]
  },
  {
   "cell_type": "markdown",
   "metadata": {},
   "source": [
    "#### Configure Authentication\n",
    "\n",
    "    AuthenticationManager\n",
    "        AuthenticationManagerBuilder\n",
    "            Get Hold of AuthenticationManagerBuilder\n",
    "            Set the configuration on it\n",
    "            \n",
    "     Create a class\n",
    "         @EnableWebSecurity\n",
    "         Extend WebSecurityConfigurerAdapter\n",
    "         Override configure() method\n",
    "         \n",
    "     For Password Encoding\n",
    "         @Bean of type Password"
   ]
  },
  {
   "cell_type": "markdown",
   "metadata": {
    "collapsed": true
   },
   "source": [
    "#### Spring Boot + Spring Security with JPA authentication \n",
    "\n",
    "    spring-security-jpa\n",
    "    mysql\n",
    "    \n",
    "    "
   ]
  }
 ],
 "metadata": {
  "kernelspec": {
   "display_name": "Python 3",
   "language": "python",
   "name": "python3"
  },
  "language_info": {
   "codemirror_mode": {
    "name": "ipython",
    "version": 3
   },
   "file_extension": ".py",
   "mimetype": "text/x-python",
   "name": "python",
   "nbconvert_exporter": "python",
   "pygments_lexer": "ipython3",
   "version": "3.5.2"
  }
 },
 "nbformat": 4,
 "nbformat_minor": 2
}
