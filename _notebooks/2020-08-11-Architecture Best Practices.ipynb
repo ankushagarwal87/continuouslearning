{
 "cells": [
  {
   "cell_type": "markdown",
   "metadata": {},
   "source": [
    "# Architecture Best Practices\n",
    "> Introduction on Architecture Best Practices\n",
    "\n",
    "- toc: true \n",
    "- comments: true\n",
    "- author: Ankush Agarwal\n",
    "- categories: [aws, Architecture Best Practices]"
   ]
  },
  {
   "cell_type": "markdown",
   "metadata": {},
   "source": [
    "### Overview\n",
    "    Design for failure and nothing will fail.\n",
    "        Standby redundancy is often used for stateful components such as relational databases.\n",
    "        Amazon Simple Storage Service (Amazon S3) and Amazon DynamoDB ensure that data is redundantly \n",
    "        stored across multiple facilities.\n",
    "        \n",
    "    Implement elasticity.\n",
    "        vertically and horizontally.\n",
    "        Consider only storing a unique session identifier in a HTTP cookie and storing more detailed user \n",
    "        session information server-side. Most programming platforms provide a native session management \n",
    "        mechanism that works this way; however, these management mechanisms often store the session \n",
    "        information locally by default. This would result in a stateful architecture. \n",
    "        A common solution to this problem is to store user session information in a database. \n",
    "        Amazon DynamoDB is a great choice due to its scalability, high availability, and durability\n",
    "        characteristics. For many platforms, there are open source, drop-in replacement libraries that \n",
    "        allow you to store native sessions in Amazon DynamoDB.\n",
    "                \n",
    "    Leverage different storage options.        \n",
    "        \n",
    "    Build security in every layer.\n",
    "        Services like AWS Web Application Firewall (AWS WAF) can help protect your web applications \n",
    "        from SQL injection and other vulnerabilities in your application code\n",
    "        With AWS Config Rules, you will also know if some component was out of compliance even for a brief \n",
    "        period of time, making both point-in-time and period-in-time audits very effective. \n",
    "        You can implement extensive logging for your applications using Amazon CloudWatch Logs and for the \n",
    "        actual AWS API calls by enabling AWS CloudTrail\n",
    "            \n",
    "    Think parallel.\n",
    "    Loose coupling sets you free.\n",
    "    Don’t fear constraints."
   ]
  }
 ],
 "metadata": {
  "kernelspec": {
   "display_name": "Python 3",
   "language": "python",
   "name": "python3"
  },
  "language_info": {
   "codemirror_mode": {
    "name": "ipython",
    "version": 3
   },
   "file_extension": ".py",
   "mimetype": "text/x-python",
   "name": "python",
   "nbconvert_exporter": "python",
   "pygments_lexer": "ipython3",
   "version": "3.5.2"
  }
 },
 "nbformat": 4,
 "nbformat_minor": 2
}
