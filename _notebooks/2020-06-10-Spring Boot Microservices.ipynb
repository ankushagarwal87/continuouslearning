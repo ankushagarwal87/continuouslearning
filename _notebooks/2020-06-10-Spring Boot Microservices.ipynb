{
 "cells": [
  {
   "cell_type": "markdown",
   "metadata": {},
   "source": [
    "# Spring Boot Microservices\n",
    "> Microservices using Spring Boot\n",
    "\n",
    "- toc: true \n",
    "- comments: true\n",
    "- author: Ankush Agarwal\n",
    "- categories: [Spring Boot, Microservices]"
   ]
  },
  {
   "cell_type": "markdown",
   "metadata": {},
   "source": [
    "#### Microservices vs Service Oriented Architecture\n",
    "    Patterns\n",
    "        Make microservices work well together\n",
    "    Technologies\n",
    "        Libraries & framework to solve common problems\n",
    "    Service Oriented Architecture\n",
    "        Intention is to create reusable utility \n",
    "        Consumer are not known in start\n",
    "    Microservices\n",
    "        Intention is to fulfil application needs\n",
    "        Not designed for reuse\n",
    "        \n",
    "#### Spring Boot Dependencies\n",
    "    spring-boot-starter-web  --simple REST API\n",
    "    \n",
    "#### Annotation \n",
    "    @SpringBootApplication - Main class\n",
    "    @Bean - creating a singleton bean\n",
    "    @Autowired - Access singleton bean\n",
    "    @RestController - On class which is going to address request\n",
    "    @RequestMapping(\"/catalog\")  - resource name on class\n",
    "    @RequestMapping(\"/{userId}\") - resource instance on method\n",
    "    @PathVariable(\"userId\") - resource instance in method parameter\n",
    "    \n",
    "#### Project lombok\n",
    "    org.projectlombok  -dependency\n",
    "    Add plugin in IDE \n",
    "    @Data - Create getter/setter\n",
    "    @AllArgsConstructor - Argument costructor\n",
    "    @NoArgsConstructor - Default constructor\n",
    "        Needed while unmarshalling response from other API \n",
    "        By deault first default object gets created then attribute maps in Rest Template\n",
    "        \n",
    "#### Calling API\n",
    "    Sync - restTemplate.getForObject(url,ClassName) - return response & map it corresponding object\n",
    "    Asycn - webClientBuilder.build()\n",
    "                    .get()    -- type of operation\n",
    "                    .uri(url) \n",
    "                    .retrieve()\n",
    "                    .bodyToMono(ClassName.class)   -- Promise that object will be return \n",
    "                    .block()   -- Thread will be block till response is received\n",
    "        \n",
    "#### Returing response from API\n",
    "    Why you should avoid returning lists in APIs\n",
    "        If any changes done in API then consumer can also be impacted\n",
    "        ParameterizedTypeReference need to be used in consumer for response\n",
    "        \n",
    "#### Service Discovery\n",
    "    Client Side - Spring Cloud uses this\n",
    "        Client check for service url from Discovery server\n",
    "    Server Side\n",
    "        Discovery server does the operation asked \n",
    "        \n",
    "#### Eureka Discovery Server\n",
    "    Spring Boot application\n",
    "    <spring-cloud.version>Hoxton.SR5</spring-cloud.version> - properties\n",
    "    <groupId>org.springframework.cloud</groupId>\n",
    "\t<artifactId>spring-cloud-starter-netflix-eureka-server</artifactId>  --dependency\n",
    "    @EnableEurekaServer - on server\n",
    "    @EnableEurekaClient - on client\n",
    "    @LoadBalanced - RestTemplate - Client discovery & load balancing - Give service name as url"
   ]
  },
  {
   "cell_type": "markdown",
   "metadata": {},
   "source": [
    "### Fault Tolerance & Resilience \n",
    "    \n",
    "    Fault\n",
    "        Service is down\n",
    "            Multiple Instance\n",
    "        Service is slow\n",
    "            Impact on another services\n",
    "            Resolution \n",
    "                Timeout\n",
    "                Circuit Breaker - Deactivate the slow service\n",
    "                    Check last n request\n",
    "                    Find how many out n failed\n",
    "                    Timeout duration\n",
    "                    How long to wait - sleep \n",
    "                    Hystrix (open source by Netflix) implements Circuit Breaker\n",
    "                        spring-cloud-starter-netflix-hystrix\n",
    "                        @EnableCircuitBreaker on application class\n",
    "                        @HystrixCommand to method that needs Circuit Breaker\n",
    "                        Configure Hystrix Behaviour\n",
    "                     \n",
    "    "
   ]
  },
  {
   "cell_type": "markdown",
   "metadata": {},
   "source": [
    "### Configuration\n",
    "\n",
    "    @Value(${id}) - return parameter value\n",
    "    @Value(${my.list.values}) - return parameter list values\n",
    "    @Value(#{${my.map.values}}) - return parameter map values\n",
    "    @ConfigurationProperties(\"db\") - On bean class for mapping member variable with propery file values\n",
    "    \n",
    "    spring-boot-starter-actuator  -- dependency to expose configuration properties "
   ]
  },
  {
   "cell_type": "markdown",
   "metadata": {},
   "source": [
    "#### YAML Yet Another Markup Language\n",
    "\n",
    "    property: value --format\n",
    "    db:\n",
    "        connection: \n",
    "        user:\n",
    "        password:"
   ]
  },
  {
   "cell_type": "markdown",
   "metadata": {},
   "source": [
    "#### Profile\n",
    "    Set of configuration value\n",
    "    default profile is always used \n",
    "    application-<profileName>.extension\n",
    "    spring.profile.active=profileName\n",
    "    set environment specific values in custom profile"
   ]
  },
  {
   "cell_type": "markdown",
   "metadata": {},
   "source": [
    "#### Config as a Service\n",
    "    Apache Zookeeper\n",
    "    ETCD Distributed key value store\n",
    "    Hashicorp Consul\n",
    "    Spring Cloud Configuration Server    \n",
    "        <spring-cloud-config-server>  -- Add dependency\n",
    "        @EnableConfigServer -- main class\n",
    "        spring.cloud.config.server.git.uri=X  in application.properties\n",
    "        \n",
    "        <spring-cloud-config-client>  -- on client applications\n",
    "        spring.cloud.config.uri   -- application.properties\n",
    "        \n",
    "        Real time update of service\n",
    "            use actuator - it gives endpoint to refresh changes in configuration properties\n",
    "            @RefreshScope - Bean for which refresh need to be done\n",
    "        "
   ]
  }
 ],
 "metadata": {
  "kernelspec": {
   "display_name": "Python 3",
   "language": "python",
   "name": "python3"
  },
  "language_info": {
   "codemirror_mode": {
    "name": "ipython",
    "version": 3
   },
   "file_extension": ".py",
   "mimetype": "text/x-python",
   "name": "python",
   "nbconvert_exporter": "python",
   "pygments_lexer": "ipython3",
   "version": "3.5.2"
  }
 },
 "nbformat": 4,
 "nbformat_minor": 2
}
