{
 "cells": [
  {
   "cell_type": "markdown",
   "metadata": {},
   "source": [
    "# Python Functions, Files & Dictionaries\n",
    "> Cover basic around Functions, Files & Dictionaries\n",
    "\n",
    "- toc: true \n",
    "- comments: true\n",
    "- author: Ankush Agarwal\n",
    "- categories: [Python, Functions, Files, Dictionaries]"
   ]
  },
  {
   "cell_type": "markdown",
   "metadata": {},
   "source": [
    "### Files\n",
    "\n",
    "#### Reading a file\n",
    "    fileref = open(\"filename\",\"r\")\n",
    "    content = fileref.read()  -- Single String\n",
    "    content = fileref.readlines() -- list of strings \n",
    "    for instance in fileref:\n",
    "        print(instance)\n",
    "    fileref.close()\n",
    "    \n",
    "#### Finding a file\n",
    "    open(\"../dir/file\",\"r\") - relative path - preferred\n",
    "    open(\"C://dir/file\",\"r\") - absolute\n",
    "    \n",
    "#### Writing a file\n",
    "    fileref = open(\"filename\",\"w\")\n",
    "    fileref.write(\"SSSSS\")\n",
    "    fileref.close()\n",
    "    \n",
    "#### Using with for\n",
    "    with open(\"file\",\"r\") as md:\n",
    "        for line in md:\n",
    "            print(line)\n",
    "\n",
    "#### CSV Output\n",
    "    Read\n",
    "    Write  \n"
   ]
  },
  {
   "cell_type": "markdown",
   "metadata": {},
   "source": [
    "### Dictionaries\n",
    "\n",
    "#### Operations\n",
    "    del xx['y']\n",
    "    len(dict)\n",
    "\n",
    "#### Methods\n",
    "    dict.keys()\n",
    "    list(dict.items())\n",
    "    list(dict.values())\n",
    "    dict.get(\"y\")\n",
    "    dict.get(\"y\",0)"
   ]
  },
  {
   "cell_type": "markdown",
   "metadata": {},
   "source": [
    "### Function\n",
    "\n",
    "#### Basics\n",
    "    Definition\n",
    "    Parameter Passing\n",
    "    Returning Values\n",
    "    \n",
    "#### Local & Global Variables\n",
    "    If variable assigned value in a funtion before read - local \n",
    "        If variable assigned value in a funtion after read - global (global variable)\n",
    "    \n",
    "#### Mutable Objects & Side Effects\n",
    "    Object will pass as a reference & any changes will alter passed object\n",
    "    \n",
    "#### Tuples Packing\n",
    "    When need to pass more than one resultset\n",
    "    \n",
    "\n",
    "   "
   ]
  },
  {
   "cell_type": "markdown",
   "metadata": {},
   "source": [
    "### Iteration and Advanced Functions\n",
    "\n",
    "#### While Statement\n",
    "    while {cond}\n",
    "        statement\n",
    "        continue\n",
    "        break\n",
    "        \n",
    "#### Advance Function\n",
    "    Optional Parameter\n",
    "        def f(a,l=[]):\n",
    "    Keyword argument\n",
    "        f(a=5,l=['hello'])\n",
    "        Keyword argument to come after non keyword argument\n",
    "    \n",
    "#### Anonymous Function with Lambda Expression\n",
    "    def func(args):\n",
    "        return ret_val\n",
    "        \n",
    "    func = lambda args:ret value\n",
    "    "
   ]
  },
  {
   "cell_type": "markdown",
   "metadata": {},
   "source": [
    "### Sorting \n",
    "\n",
    "#### Basics\n",
    "    list.sort()\n",
    "    newlist = sorted(list)\n",
    "    newString = sorted(string)\n",
    "    \n",
    "    Reverse order\n",
    "        list.sort(reverse=True)\n",
    "        \n",
    "    Optional Key\n",
    "        newlist = sorted(list,key=function)\n",
    "        newlist = sorted(list,key=lambda expression)\n",
    "            Call function for each value & sort on the basis of function return value\n",
    "            \n",
    "#### Sorting Dictionaries\n",
    "    Sorting Dictionary\n",
    "        sorted(dict.keys())\n",
    "        sorted(dict.keys(),key=lambda x:dict[x])  -- sort by values\n",
    "        sorted(dict.keys(),key=lambda x:dict[x],reverse=True)\n",
    "        \n",
    "    Breaking Ties\n",
    "        sorted(list,key = lambda fruit_name:(len(fruit_name),fruit_name))"
   ]
  }
 ],
 "metadata": {
  "kernelspec": {
   "display_name": "Python 3",
   "language": "python",
   "name": "python3"
  },
  "language_info": {
   "codemirror_mode": {
    "name": "ipython",
    "version": 3
   },
   "file_extension": ".py",
   "mimetype": "text/x-python",
   "name": "python",
   "nbconvert_exporter": "python",
   "pygments_lexer": "ipython3",
   "version": "3.5.2"
  }
 },
 "nbformat": 4,
 "nbformat_minor": 2
}
