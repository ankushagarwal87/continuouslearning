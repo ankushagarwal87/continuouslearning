{
 "cells": [
  {
   "cell_type": "markdown",
   "metadata": {
    "collapsed": true
   },
   "source": [
    "# DNS & Route 53\n",
    "> Introduction to DNS & Route 53\n",
    "\n",
    "- toc: true \n",
    "- comments: true\n",
    "- author: Ankush Agarwal\n",
    "- categories: [aws, DNS, Route 53]"
   ]
  },
  {
   "cell_type": "markdown",
   "metadata": {},
   "source": [
    "### Domain Name System (DNS) Concepts\n",
    "    Top-Level Domains (TLDs)\n",
    "        A Top-Level Domain (TLD) is the most general part of the domain. \n",
    "        The TLD is the farthest portion to the right (as separated by a dot). \n",
    "        Common TLDs are .com, .net, .org, .gov, .edu, and .io.\n",
    "             \n",
    "     Domain Names\n",
    "         Each domain name becomes registered in a central database, known as the WhoIS database.\n",
    "         \n",
    "     IP Addresses\n",
    "     Hosts\n",
    "     Subdomains\n",
    "     Fully Qualified Domain Name (FQDN)\n",
    "![](my_icons/DNS.png)\n",
    "\n",
    "    Name Servers\n",
    "        A name server is a computer designated to translate domain names into IP addresses.\n",
    "    Zone Files\n",
    "        A zone file is a simple text file that contains the mappings between domain names and IP addresses.\n",
    "    Top-Level Domain (TLD) Name Registrars"
   ]
  },
  {
   "cell_type": "markdown",
   "metadata": {},
   "source": [
    "### Amazon Route 53 Overview\n",
    "    Amazon Route 53 is a highly available and scalable cloud DNS web service\n",
    "    Amazon Route 53 performs three main functions:\n",
    "        Domain registration\n",
    "        DNS service\n",
    "        Health checking\n",
    "    When you create a resource record set, you choose a routing policy, which determines how Amazon Route 53\n",
    "        responds to queries. \n",
    "    Routing policy options are simple, weighted, latency-based, failover, and geolocation.\n",
    "    Routing policies can be associated with health checks, so resource health status is considered before it \n",
    "        even becomes a candidate in a conditional decision tree.\n",
    "        \n",
    "    Simple\n",
    "    This is the default routing policy when you create a new resource. \n",
    "    Use a simple routing policy when you have a single resource that performs a given function for your domain\n",
    "    \n",
    "    Weighted\n",
    "    With weighted DNS, you can associate multiple resources (such as Amazon Elastic Compute Cloud [Amazon EC2]\n",
    "        instances or Elastic Load Balancing load balancers) with a single DNS name.\n",
    "    \n",
    "    Latency-Based\n",
    "    Latency-based routing allows you to route your traffic based on the lowest network latency for your end \n",
    "        user (for example, using the AWS region that will give them the fastest response time).\n",
    "        \n",
    "    Failover\n",
    "    Use a failover routing policy to configure active-passive failover, in which one resource takes all the \n",
    "        traffic when it’s available and the other resource takes all the traffic when the first resource \n",
    "        isn’t available.\n",
    "        \n",
    "    Geolocation\n",
    "    Geolocation routing lets you choose where Amazon Route 53 will send your traffic based on the \n",
    "        geographic location of your users (the location from which DNS queries originate). "
   ]
  }
 ],
 "metadata": {
  "kernelspec": {
   "display_name": "Python 3",
   "language": "python",
   "name": "python3"
  },
  "language_info": {
   "codemirror_mode": {
    "name": "ipython",
    "version": 3
   },
   "file_extension": ".py",
   "mimetype": "text/x-python",
   "name": "python",
   "nbconvert_exporter": "python",
   "pygments_lexer": "ipython3",
   "version": "3.5.2"
  }
 },
 "nbformat": 4,
 "nbformat_minor": 2
}
