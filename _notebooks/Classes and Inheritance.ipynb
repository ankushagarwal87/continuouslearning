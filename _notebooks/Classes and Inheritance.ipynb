{
 "cells": [
  {
   "cell_type": "markdown",
   "metadata": {},
   "source": [
    "# Classes and Inheritance\n",
    "> Classes , Inheritence , Exception & Unit Testing\n",
    "\n",
    "- toc: true \n",
    "- comments: true\n",
    "- author: Ankush Agarwal\n",
    "- categories: [Python,Classes,Inheritence,Exception]"
   ]
  },
  {
   "cell_type": "markdown",
   "metadata": {},
   "source": [
    "### Clasess"
   ]
  },
  {
   "cell_type": "code",
   "execution_count": 2,
   "metadata": {},
   "outputs": [
    {
     "name": "stdout",
     "output_type": "stream",
     "text": [
      "5\n"
     ]
    }
   ],
   "source": [
    "class Point():\n",
    "    def getX(self):  ## self refer to instance\n",
    "        return self.x\n",
    "    \n",
    "point1=Point()\n",
    "point1.x=5\n",
    "print(point1.getX())"
   ]
  },
  {
   "cell_type": "code",
   "execution_count": 3,
   "metadata": {},
   "outputs": [
    {
     "name": "stdout",
     "output_type": "stream",
     "text": [
      "5\n"
     ]
    }
   ],
   "source": [
    "#Constructor \n",
    "\n",
    "class Point():\n",
    "    def __init__(self,x,y): \n",
    "        self.x=x\n",
    "        self.y=y\n",
    "    def getX(self):  \n",
    "        return self.x\n",
    "    \n",
    "point1=Point(5,1)\n",
    "print(point1.getX())"
   ]
  },
  {
   "cell_type": "code",
   "execution_count": 6,
   "metadata": {},
   "outputs": [
    {
     "name": "stdout",
     "output_type": "stream",
     "text": [
      "5\n"
     ]
    }
   ],
   "source": [
    "# Coverting object to String\n",
    "\n",
    "class Point():\n",
    "    def __init__(self,x,y): \n",
    "        self.x=x\n",
    "        self.y=y\n",
    "    def getX(self): \n",
    "        return self.x\n",
    "    def __str__(self):\n",
    "        return str(self.x)\n",
    "    \n",
    "point1=Point(5,1)\n",
    "print(point1)"
   ]
  },
  {
   "cell_type": "code",
   "execution_count": 9,
   "metadata": {},
   "outputs": [
    {
     "name": "stdout",
     "output_type": "stream",
     "text": [
      "3\n",
      "5\n"
     ]
    }
   ],
   "source": [
    "# Sorting\n",
    "\n",
    "class Point():\n",
    "    def __init__(self,x,y):  \n",
    "        self.x=x\n",
    "        self.y=y\n",
    "    def getX(self):  \n",
    "        return self.x\n",
    "    def __str__(self):\n",
    "        return str(self.x)\n",
    "    def sort(self):\n",
    "        return self.x\n",
    "    \n",
    "pointList=[Point(5,1),Point(3,1)]\n",
    "for point in sorted(pointList,key=Point.sort):\n",
    "    print(point)"
   ]
  },
  {
   "cell_type": "markdown",
   "metadata": {},
   "source": [
    "### Inheritence"
   ]
  },
  {
   "cell_type": "code",
   "execution_count": 12,
   "metadata": {},
   "outputs": [
    {
     "name": "stdout",
     "output_type": "stream",
     "text": [
      "Alice\n"
     ]
    }
   ],
   "source": [
    "class Person():\n",
    "    def __init__(self,name):  \n",
    "        self.name=name\n",
    "    def getName(self):  \n",
    "        return self.name\n",
    "    def __str__(self):\n",
    "        return str(self.name)\n",
    "    \n",
    "class Student(Person): #Define Student inherit from Person\n",
    "    def __init__(self,name,rollno):\n",
    "        Person.__init__(self,name)\n",
    "        self.rollno=rollno\n",
    "    def getRollNo(self):  \n",
    "        return self.rollno\n",
    "    \n",
    "alice=Student('Alice',1)\n",
    "print(alice)"
   ]
  },
  {
   "cell_type": "markdown",
   "metadata": {},
   "source": [
    "### Test Cases"
   ]
  },
  {
   "cell_type": "code",
   "execution_count": null,
   "metadata": {
    "collapsed": true
   },
   "outputs": [],
   "source": [
    "import test\n",
    "test.testEqual(1,3)"
   ]
  },
  {
   "cell_type": "markdown",
   "metadata": {},
   "source": [
    "### Exceptions"
   ]
  },
  {
   "cell_type": "code",
   "execution_count": 19,
   "metadata": {},
   "outputs": [
    {
     "name": "stdout",
     "output_type": "stream",
     "text": [
      "error\n"
     ]
    }
   ],
   "source": [
    "try:\n",
    "    a=b/0\n",
    "except:\n",
    "    print('error')"
   ]
  },
  {
   "cell_type": "code",
   "execution_count": null,
   "metadata": {
    "collapsed": true
   },
   "outputs": [],
   "source": []
  }
 ],
 "metadata": {
  "kernelspec": {
   "display_name": "Python 3",
   "language": "python",
   "name": "python3"
  },
  "language_info": {
   "codemirror_mode": {
    "name": "ipython",
    "version": 3
   },
   "file_extension": ".py",
   "mimetype": "text/x-python",
   "name": "python",
   "nbconvert_exporter": "python",
   "pygments_lexer": "ipython3",
   "version": "3.5.2"
  }
 },
 "nbformat": 4,
 "nbformat_minor": 2
}
