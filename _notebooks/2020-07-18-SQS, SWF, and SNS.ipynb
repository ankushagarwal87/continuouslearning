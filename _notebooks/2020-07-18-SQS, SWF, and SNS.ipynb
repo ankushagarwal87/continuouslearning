{
 "cells": [
  {
   "cell_type": "markdown",
   "metadata": {},
   "source": [
    "# SQS, SWF, and SNS\n",
    "> Introduction to SQS, SWF, and SNS\n",
    "\n",
    "- toc: true \n",
    "- comments: true\n",
    "- author: Ankush Agarwal\n",
    "- categories: [aws, SQS, SWF, SNS]"
   ]
  },
  {
   "cell_type": "markdown",
   "metadata": {},
   "source": [
    "### Amazon Simple Queue Service (Amazon SQS)\n",
    "    Amazon SQS is a fast, reliable, scalable, and fully managed message queuing service.\n",
    "    Amazon SQS makes it simple and cost effective to decouple the components of a cloud application.\n",
    "    You can use Amazon SQS to transmit any volume of data, at any level of throughput\n",
    "    \n",
    "    With Amazon SQS, you can offload the administrative burden of operating and scaling a highly \n",
    "        available messaging cluster while paying a low price for only what you use.\n",
    "    Amazon SQS ensures delivery of each message at least once and supports multiple readers and writers \n",
    "        interacting with the same queue. \n",
    "    A single queue can be used simultaneously by many distributed application components, with no need for \n",
    "        those components to coordinate with one another to share the queue. \n",
    "    Although most of the time each message will be delivered to your application exactly once, \n",
    "        you should design your system to be idempotent\n",
    "        \n",
    "    Amazon SQS is engineered to be highly available and to deliver messages reliably and efficiently; \n",
    "        however, the service does not guarantee First In, First Out (FIFO) delivery of messages. \n",
    "    If your system requires that order be preserved, you can place sequencing information in each message \n",
    "        so that you can reorder the messages when they are retrieved from the queue.\n",
    "        \n",
    "![](my_icons/SQS.png)"
   ]
  },
  {
   "cell_type": "markdown",
   "metadata": {},
   "source": [
    "#### Delay Queues and Visibility Timeouts\n",
    "    Delay Queues allow you to postpone the delivery of new messages in a queue for a specific number of seconds. \n",
    "    If you create a delay queue, any message that you send to that queue will be invisible to consumers \n",
    "        for the duration of the delay period.\n",
    "    Amazon SQS supports up to 12 hours’ maximum visibility timeout.\n",
    "    By default, the message visibility timeout is set to 30 seconds\n",
    "    The default message retention period that can be set in Amazon SQS is four days.\n",
    "    The longest configurable message retention period for Amazon SQS is 14 days."
   ]
  },
  {
   "cell_type": "markdown",
   "metadata": {},
   "source": [
    "#### Queue and Message Identifiers\n",
    "    Amazon SQS uses three identifiers that you need to be familiar with: queue URLs, message IDs, \n",
    "        and receipt handles.\n",
    "    Amazon SQS assigns each message a unique ID that it returns to you in the SendMessage response.\n",
    "    Each time you receive a message from a queue, you receive a receipt handle for that message.\n",
    "    \n",
    "    Queue Operations, Unique IDs, and Metadata\n",
    "    Message Attributes\n",
    "    Long Polling\n",
    "        When your application queries the Amazon SQS queue for messages, it calls the function ReceiveMessage.\n",
    "            ReceiveMessage will check for the existence of a message in the queue and return immediately, \n",
    "            either with or without a message. \n",
    "        If your code makes periodic calls to the queue, this pattern is sufficient. \n",
    "        With long polling, you send a WaitTimeSeconds argument to ReceiveMessage of up to 20 seconds. \n",
    "        If there is no message in the queue, then the call will wait up to WaitTimeSeconds for a message to\n",
    "            appear before returning.\n",
    "            \n",
    "    Dead Letter Queues\n",
    "    Access Control        \n",
    "        You want to grant another AWS account a particular type of access to your queue.\n",
    "        You want to grant another AWS account access to your queue for a specific period of time.\n",
    "        You want to grant another AWS account access to your queue only if the requests come from your \n",
    "            Amazon EC2 instances.\n",
    "        You want to deny another AWS account access to your queue.\n",
    "        \n",
    "        Amazon SQS Access Control allows you to assign policies to queues that grant specific interactions \n",
    "            to other accounts without that account having to assume IAM roles from your account.\n",
    "\n",
    "    Tradeoff Message Durability and Latency\n",
    "        Amazon SQS does not return success to a SendMessage API call until the message is durably stored in \n",
    "            Amazon SQS."
   ]
  },
  {
   "cell_type": "markdown",
   "metadata": {},
   "source": [
    "### Amazon Simple Workflow Service (Amazon SWF)\n",
    "    Amazon SWF makes it easy to build applications that coordinate work across distributed components. \n",
    "    In Amazon SWF, a task represents a logical unit of work that is performed by a component of your \n",
    "        application. \n",
    "    Coordinating tasks across the application involves managing inter-task dependencies, scheduling, and\n",
    "        concurrency in accordance with the logical flow of the application. \n",
    "    Amazon SWF gives you full control over implementing and coordinating tasks without worrying about\n",
    "        underlying complexities such as tracking their progress and maintaining their state.\n",
    "   \n",
    "    Workflows\n",
    "        Using Amazon SWF, you can implement distributed, asynchronous applications as workflows. \n",
    "        Workflows coordinate and manage the execution of activities that can be run asynchronously across \n",
    "            multiple computing devices and that can feature both sequential and parallel processing.\n",
    "        When designing a workflow, analyze your application to identify its component tasks, which are represented \n",
    "            in Amazon SWF as activities. \n",
    "        The workflow’s coordination logic determines the order in which activities are executed.\n",
    "        \n",
    "    Workflow Domains\n",
    "        Domains provide a way of scoping Amazon SWF resources within your AWS account.\n",
    "        \n",
    "    Workflow History\n",
    "        The workflow history is a detailed, complete, and consistent record of every event that occurred \n",
    "            since the workflow execution started.\n",
    "            \n",
    "    Actors\n",
    "        Amazon SWF consists of a number of different types of programmatic features known as actors. \n",
    "        Actors can be workflow starters, deciders, or activity workers. \n",
    "        These actors communicate with Amazon SWF through its API. \n",
    "        You can develop actors in any programming language.\n",
    "        \n",
    "    Tasks\n",
    "        Amazon SWF provides activity workers and deciders with work assignments, given as one of three \n",
    "            types of tasks: activity tasks, AWS Lambda tasks, and decision tasks.\n",
    "        \n",
    "    Task Lists\n",
    "        Task lists provide a way of organizing the various tasks associated with a workflow. \n",
    "        \n",
    "    Long Polling\n",
    "        Deciders and activity workers communicate with Amazon SWF using long polling"
   ]
  },
  {
   "cell_type": "markdown",
   "metadata": {},
   "source": [
    "### Amazon Simple Notification Service (Amazon SNS)\n",
    "    Amazon SNS follows the publish-subscribe (pub-sub) messaging paradigm, with notifications being delivered \n",
    "        to clients using a push mechanism that eliminates the need to check periodically (or poll) for \n",
    "        new information and updates\n",
    "    You can use Amazon SNS to send Short Message Service (SMS) messages to mobile device users in the United \n",
    "        States or to email recipients worldwide.\n",
    "    \n",
    "    Common Amazon SNS Scenarios\n",
    "        Fanout\n",
    "        Application and System Alerts\n",
    "        Push Email and Text Messaging\n",
    "        Mobile Push Notifications"
   ]
  }
 ],
 "metadata": {
  "kernelspec": {
   "display_name": "Python 3",
   "language": "python",
   "name": "python3"
  },
  "language_info": {
   "codemirror_mode": {
    "name": "ipython",
    "version": 3
   },
   "file_extension": ".py",
   "mimetype": "text/x-python",
   "name": "python",
   "nbconvert_exporter": "python",
   "pygments_lexer": "ipython3",
   "version": "3.5.2"
  }
 },
 "nbformat": 4,
 "nbformat_minor": 2
}
